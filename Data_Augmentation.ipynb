{
  "nbformat": 4,
  "nbformat_minor": 0,
  "metadata": {
    "colab": {
      "name": "Data Augmentation.ipynb",
      "provenance": [],
      "collapsed_sections": [],
      "authorship_tag": "ABX9TyOg5xj1qEL8cNSIqqSwyMgc",
      "include_colab_link": true
    },
    "kernelspec": {
      "name": "python3",
      "display_name": "Python 3"
    },
    "accelerator": "GPU"
  },
  "cells": [
    {
      "cell_type": "markdown",
      "metadata": {
        "id": "view-in-github",
        "colab_type": "text"
      },
      "source": [
        "<a href=\"https://colab.research.google.com/github/letsgo247/Deep-Learning-Study/blob/master/Data_Augmentation.ipynb\" target=\"_parent\"><img src=\"https://colab.research.google.com/assets/colab-badge.svg\" alt=\"Open In Colab\"/></a>"
      ]
    },
    {
      "cell_type": "markdown",
      "metadata": {
        "id": "2puG2k4PCwB4",
        "colab_type": "text"
      },
      "source": [
        "#작은 데이터셋으로 강력한 이미지 분류 모델 설계하기\n",
        "\n",
        "https://keraskorea.github.io/posts/2018-10-24-little_data_powerful_model/\n",
        "\n",
        "https://www.tensorflow.org/api_docs/python/tf/keras/preprocessing/image/ImageDataGenerator#used-in-the-notebooks_1\n",
        "\n",
        "https://tykimos.github.io/2017/06/10/CNN_Data_Augmentation/"
      ]
    },
    {
      "cell_type": "code",
      "metadata": {
        "id": "iv8hWhnp2esm",
        "colab_type": "code",
        "colab": {
          "base_uri": "https://localhost:8080/",
          "height": 35
        },
        "outputId": "756a12de-974b-4a07-c535-9f796ba5e3a2"
      },
      "source": [
        "%tensorflow_version 1.x"
      ],
      "execution_count": 1,
      "outputs": [
        {
          "output_type": "stream",
          "text": [
            "TensorFlow 1.x selected.\n"
          ],
          "name": "stdout"
        }
      ]
    },
    {
      "cell_type": "code",
      "metadata": {
        "id": "fC8PXcV6sXhj",
        "colab_type": "code",
        "colab": {
          "base_uri": "https://localhost:8080/",
          "height": 35
        },
        "outputId": "cf72b452-8f95-402c-9e7b-15edcfe69e31"
      },
      "source": [
        "from google.colab import drive\n",
        "drive.mount('/content/drive', force_remount=True)"
      ],
      "execution_count": 2,
      "outputs": [
        {
          "output_type": "stream",
          "text": [
            "Mounted at /content/drive\n"
          ],
          "name": "stdout"
        }
      ]
    },
    {
      "cell_type": "code",
      "metadata": {
        "id": "_WK7MPHTBlON",
        "colab_type": "code",
        "colab": {}
      },
      "source": [
        "# from keras.preprocessing.image import ImageDataGenerator, array_to_img, img_to_array, load_img\n",
        "\n",
        "# datagen = ImageDataGenerator(\n",
        "#         rotation_range=20,\n",
        "#         width_shift_range=0.1,\n",
        "#         height_shift_range=0.1,\n",
        "#         shear_range=0.2,\n",
        "#         zoom_range=0.1,\n",
        "#         horizontal_flip=True,\n",
        "#         fill_mode='constant')   #'nearest':끝의 cell로 채우기, 'constant':걍 검은색, 'reflact':거울상, 'wrap':반복 채우기\n",
        "\n",
        "# img = load_img('/content/data/Osstem/김달원_#44,46.jpg')  # PIL 이미지\n",
        "# x = img_to_array(img)  # (3, 150, 150) 크기의 NumPy 배열\n",
        "# x = x.reshape((1,) + x.shape)  # (1, 3, 150, 150) 크기의 NumPy 배열\n",
        "\n",
        "# # 아래 .flow() 함수는 임의 변환된 이미지를 배치 단위로 생성해서\n",
        "# # 지정된 `preview/` 폴더에 저장합니다.\n",
        "# i = 0\n",
        "# for batch in datagen.flow(x, batch_size=1,\n",
        "#                           save_to_dir='/content/data/Osstem/preview3', save_prefix='osstem', save_format='jpeg'):\n",
        "#     i += 1\n",
        "#     if i > 20:\n",
        "#         break  # 이미지 20장을 생성하고 마칩니다"
      ],
      "execution_count": null,
      "outputs": []
    },
    {
      "cell_type": "code",
      "metadata": {
        "id": "OvEz6qMQ0S7g",
        "colab_type": "code",
        "colab": {}
      },
      "source": [
        "from keras.models import *\n",
        "from keras.layers import *\n",
        "\n",
        "model = Sequential()\n",
        "# model.add(Conv2D(32, (3, 3), input_shape=(3, 150, 150), data_format='channels_first'))\n",
        "model.add(Conv2D(32, (3, 3), input_shape=(150, 150, 3)))\n",
        "model.add(Activation('relu'))\n",
        "model.add(MaxPooling2D(pool_size=(2, 2)))\n",
        "\n",
        "model.add(Conv2D(32, (3, 3)))\n",
        "model.add(Activation('relu'))\n",
        "model.add(MaxPooling2D(pool_size=(2, 2)))\n",
        "\n",
        "model.add(Conv2D(64, (3, 3)))\n",
        "model.add(Activation('relu'))\n",
        "model.add(MaxPooling2D(pool_size=(2, 2)))\n",
        "\n",
        "model.add(Flatten())  # 이전 CNN 레이어에서 나온 3차원 배열은 1차원으로 뽑아줍니다\n",
        "model.add(Dense(64))\n",
        "model.add(Activation('relu'))\n",
        "model.add(Dropout(0.5))\n",
        "model.add(Dense(1))\n",
        "model.add(Activation('sigmoid'))\n",
        "\n",
        "model.compile(loss='binary_crossentropy',\n",
        "              optimizer='rmsprop',\n",
        "              metrics=['accuracy'])"
      ],
      "execution_count": 102,
      "outputs": []
    },
    {
      "cell_type": "code",
      "metadata": {
        "id": "n0dVEW1b5IXy",
        "colab_type": "code",
        "colab": {
          "base_uri": "https://localhost:8080/",
          "height": 71
        },
        "outputId": "1d6c2813-3eec-4ac9-f3c9-1d7a7f08609a"
      },
      "source": [
        "from keras.preprocessing.image import ImageDataGenerator\n",
        "\n",
        "batch_size = 16\n",
        "\n",
        "# 학습 이미지에 적용한 augmentation 인자를 지정해줍니다.\n",
        "train_datagen = ImageDataGenerator(\n",
        "        rescale=1./255,\n",
        "        shear_range=0.2,\n",
        "        zoom_range=0.2,\n",
        "        horizontal_flip=True)\n",
        "\n",
        "# 검증 및 테스트 이미지는 augmentation을 적용하지 않습니다. 모델 성능을 평가할 때에는 이미지 원본을 사용합니다.\n",
        "validation_datagen = ImageDataGenerator(rescale=1./255)\n",
        "test_datagen = ImageDataGenerator(rescale=1./255)\n",
        "\n",
        "# 이미지를 배치 단위로 불러와 줄 generator입니다.\n",
        "train_generator = train_datagen.flow_from_directory(\n",
        "        '/content/drive/My Drive/dogs-vs-cats/train',  # this is the target directory\n",
        "        target_size=(150, 150),  # 모든 이미지의 크기가 150x150로 조정됩니다.\n",
        "        batch_size=batch_size,\n",
        "        class_mode='binary')  # binary_crossentropy 손실 함수를 사용하므로 binary 형태로 라벨을 불러와야 합니다.\n",
        "\n",
        "validation_generator = validation_datagen.flow_from_directory(\n",
        "        '/content/drive/My Drive/dogs-vs-cats/validation',\n",
        "        target_size=(150, 150),\n",
        "        batch_size=batch_size,\n",
        "        class_mode='binary')\n",
        "\n",
        "test_generator = test_datagen.flow_from_directory(\n",
        "        '/content/drive/My Drive/dogs-vs-cats/validation',\n",
        "        target_size=(150, 150),\n",
        "        batch_size=batch_size,\n",
        "        class_mode='binary')"
      ],
      "execution_count": 103,
      "outputs": [
        {
          "output_type": "stream",
          "text": [
            "Found 2000 images belonging to 2 classes.\n",
            "Found 800 images belonging to 2 classes.\n",
            "Found 800 images belonging to 2 classes.\n"
          ],
          "name": "stdout"
        }
      ]
    },
    {
      "cell_type": "code",
      "metadata": {
        "id": "Gp4hCirvPNk5",
        "colab_type": "code",
        "colab": {
          "base_uri": "https://localhost:8080/",
          "height": 341
        },
        "outputId": "7a0e0360-8dd6-4ad6-f529-9e75aa78866f"
      },
      "source": [
        "import numpy as np\n",
        "print(train_generator[1][0].shape)\n",
        "print(train_generator[1][1].shape)\n",
        "train_generator[0][1]"
      ],
      "execution_count": 89,
      "outputs": [
        {
          "output_type": "stream",
          "text": [
            "(16, 150, 150, 3)\n",
            "(16, 2)\n"
          ],
          "name": "stdout"
        },
        {
          "output_type": "execute_result",
          "data": {
            "text/plain": [
              "array([[1., 0.],\n",
              "       [0., 1.],\n",
              "       [0., 1.],\n",
              "       [1., 0.],\n",
              "       [1., 0.],\n",
              "       [1., 0.],\n",
              "       [0., 1.],\n",
              "       [0., 1.],\n",
              "       [1., 0.],\n",
              "       [1., 0.],\n",
              "       [0., 1.],\n",
              "       [1., 0.],\n",
              "       [0., 1.],\n",
              "       [0., 1.],\n",
              "       [1., 0.],\n",
              "       [0., 1.]], dtype=float32)"
            ]
          },
          "metadata": {
            "tags": []
          },
          "execution_count": 89
        }
      ]
    },
    {
      "cell_type": "code",
      "metadata": {
        "id": "wmxtwREpGHGA",
        "colab_type": "code",
        "colab": {
          "base_uri": "https://localhost:8080/",
          "height": 163
        },
        "outputId": "e7e79191-939a-4206-e9be-36e01e78ad66"
      },
      "source": [
        "#Categorical\n",
        "import time\n",
        "\n",
        "t_s = time.time()\n",
        "\n",
        "hist = model.fit_generator(\n",
        "        train_generator,\n",
        "        steps_per_epoch=1000 // batch_size,\n",
        "        validation_data=validation_generator,\n",
        "        epochs=3)\n",
        "model.save_weights('first_try.h5')  # 많은 시간을 들여 학습한 모델인 만큼, 학습 후에는 꼭 모델을 저장해줍시다.\n",
        "\n",
        "t_e = time.time()\n",
        "t = t_e - t_s\n",
        "print(t/60+'m')"
      ],
      "execution_count": 117,
      "outputs": [
        {
          "output_type": "stream",
          "text": [
            "Epoch 1/3\n",
            "62/62 [==============================] - 13s 209ms/step - loss: 0.3913 - accuracy: 0.8256 - val_loss: 0.6410 - val_accuracy: 0.7837\n",
            "Epoch 2/3\n",
            "62/62 [==============================] - 11s 175ms/step - loss: 0.4115 - accuracy: 0.8135 - val_loss: 0.3910 - val_accuracy: 0.7675\n",
            "Epoch 3/3\n",
            "62/62 [==============================] - 13s 204ms/step - loss: 0.4296 - accuracy: 0.8196 - val_loss: 0.7043 - val_accuracy: 0.7625\n",
            "0.6079301317532857\n"
          ],
          "name": "stdout"
        }
      ]
    },
    {
      "cell_type": "code",
      "metadata": {
        "id": "FgdHKwx3eYcN",
        "colab_type": "code",
        "colab": {
          "base_uri": "https://localhost:8080/",
          "height": 298
        },
        "outputId": "9a04ba21-e97c-4f90-c8b7-43c6704bf81b"
      },
      "source": [
        "#그래프 그려주는 모듈\n",
        "\n",
        "import matplotlib.pyplot as plt\n",
        "\n",
        "fig, loss_ax = plt.subplots() \n",
        "\n",
        "acc_ax = loss_ax.twinx()\n",
        "\n",
        "loss_ax.plot(hist.history['loss'], 'y', label='train loss')\n",
        "loss_ax.plot(hist.history['val_loss'], 'r', label='val loss')\n",
        "# loss_ax.set_ylim([0.0, 2])\n",
        "\n",
        "acc_ax.plot(hist.history['accuracy'], 'b', label='train acc')\n",
        "acc_ax.plot(hist.history['val_accuracy'], 'g', label='val acc')\n",
        "# acc_ax.set_ylim([0.5, 1.0])\n",
        "\n",
        "loss_ax.set_xlabel('epoch')\n",
        "loss_ax.set_ylabel('loss')\n",
        "acc_ax.set_ylabel('accuray')\n",
        "\n",
        "loss_ax.legend(loc='lower right')\n",
        "acc_ax.legend(loc='upper right')"
      ],
      "execution_count": 116,
      "outputs": [
        {
          "output_type": "execute_result",
          "data": {
            "text/plain": [
              "<matplotlib.legend.Legend at 0x7f8a184b3898>"
            ]
          },
          "metadata": {
            "tags": []
          },
          "execution_count": 116
        },
        {
          "output_type": "display_data",
          "data": {
            "image/png": "[encoded data removed]",
            "text/plain": [
              "<Figure size 432x288 with 2 Axes>"
            ]
          },
          "metadata": {
            "tags": [],
            "needs_background": "light"
          }
        }
      ]
    },
    {
      "cell_type": "code",
      "metadata": {
        "id": "856K9o3mabhg",
        "colab_type": "code",
        "colab": {
          "base_uri": "https://localhost:8080/",
          "height": 1000
        },
        "outputId": "724bf61d-64e7-4162-bf0e-089ddd6a9eac"
      },
      "source": [
        "#Binary\n",
        "\n",
        "model.fit_generator(\n",
        "        train_generator,\n",
        "        steps_per_epoch=1000 // batch_size,\n",
        "        validation_data=validation_generator,\n",
        "        epochs=50)\n",
        "model.save_weights('first_try(binary).h5')  # 많은 시간을 들여 학습한 모델인 만큼, 학습 후에는 꼭 모델을 저장해줍시다."
      ],
      "execution_count": 106,
      "outputs": [
        {
          "output_type": "stream",
          "text": [
            "Epoch 1/50\n",
            "62/62 [==============================] - 14s 225ms/step - loss: 0.6937 - accuracy: 0.5302 - val_loss: 0.6726 - val_accuracy: 0.5838\n",
            "Epoch 2/50\n",
            "62/62 [==============================] - 11s 185ms/step - loss: 0.6898 - accuracy: 0.5625 - val_loss: 0.5766 - val_accuracy: 0.6350\n",
            "Epoch 3/50\n",
            "62/62 [==============================] - 14s 223ms/step - loss: 0.6592 - accuracy: 0.6099 - val_loss: 0.5355 - val_accuracy: 0.6463\n",
            "Epoch 4/50\n",
            "62/62 [==============================] - 12s 186ms/step - loss: 0.6796 - accuracy: 0.6190 - val_loss: 0.7968 - val_accuracy: 0.5750\n",
            "Epoch 5/50\n",
            "62/62 [==============================] - 14s 219ms/step - loss: 0.6338 - accuracy: 0.6381 - val_loss: 0.5516 - val_accuracy: 0.6625\n",
            "Epoch 6/50\n",
            "62/62 [==============================] - 12s 187ms/step - loss: 0.6285 - accuracy: 0.6573 - val_loss: 0.6280 - val_accuracy: 0.6750\n",
            "Epoch 7/50\n",
            "62/62 [==============================] - 13s 215ms/step - loss: 0.6133 - accuracy: 0.6613 - val_loss: 0.7538 - val_accuracy: 0.6900\n",
            "Epoch 8/50\n",
            "62/62 [==============================] - 12s 186ms/step - loss: 0.6109 - accuracy: 0.6815 - val_loss: 0.6984 - val_accuracy: 0.5975\n",
            "Epoch 9/50\n",
            "62/62 [==============================] - 13s 213ms/step - loss: 0.5759 - accuracy: 0.7238 - val_loss: 0.7116 - val_accuracy: 0.6375\n",
            "Epoch 10/50\n",
            "62/62 [==============================] - 12s 192ms/step - loss: 0.5957 - accuracy: 0.6835 - val_loss: 0.6654 - val_accuracy: 0.7212\n",
            "Epoch 11/50\n",
            "62/62 [==============================] - 13s 210ms/step - loss: 0.5631 - accuracy: 0.7288 - val_loss: 0.5224 - val_accuracy: 0.6900\n",
            "Epoch 12/50\n",
            "62/62 [==============================] - 12s 194ms/step - loss: 0.5840 - accuracy: 0.7107 - val_loss: 0.5565 - val_accuracy: 0.7237\n",
            "Epoch 13/50\n",
            "62/62 [==============================] - 14s 220ms/step - loss: 0.5576 - accuracy: 0.7117 - val_loss: 0.4874 - val_accuracy: 0.6913\n",
            "Epoch 14/50\n",
            "62/62 [==============================] - 12s 190ms/step - loss: 0.5520 - accuracy: 0.7248 - val_loss: 0.5402 - val_accuracy: 0.7063\n",
            "Epoch 15/50\n",
            "62/62 [==============================] - 13s 205ms/step - loss: 0.5343 - accuracy: 0.7490 - val_loss: 0.6507 - val_accuracy: 0.7113\n",
            "Epoch 16/50\n",
            "62/62 [==============================] - 12s 189ms/step - loss: 0.5544 - accuracy: 0.7218 - val_loss: 0.6602 - val_accuracy: 0.7237\n",
            "Epoch 17/50\n",
            "62/62 [==============================] - 13s 204ms/step - loss: 0.5533 - accuracy: 0.7137 - val_loss: 0.5489 - val_accuracy: 0.7150\n",
            "Epoch 18/50\n",
            "62/62 [==============================] - 12s 193ms/step - loss: 0.5331 - accuracy: 0.7379 - val_loss: 0.7040 - val_accuracy: 0.7175\n",
            "Epoch 19/50\n",
            "62/62 [==============================] - 13s 203ms/step - loss: 0.5154 - accuracy: 0.7631 - val_loss: 0.5749 - val_accuracy: 0.7075\n",
            "Epoch 20/50\n",
            "62/62 [==============================] - 12s 195ms/step - loss: 0.5347 - accuracy: 0.7258 - val_loss: 0.4677 - val_accuracy: 0.7200\n",
            "Epoch 21/50\n",
            "62/62 [==============================] - 12s 199ms/step - loss: 0.5313 - accuracy: 0.7308 - val_loss: 0.3268 - val_accuracy: 0.7325\n",
            "Epoch 22/50\n",
            "62/62 [==============================] - 12s 199ms/step - loss: 0.5203 - accuracy: 0.7399 - val_loss: 0.4606 - val_accuracy: 0.6750\n",
            "Epoch 23/50\n",
            "62/62 [==============================] - 12s 200ms/step - loss: 0.5165 - accuracy: 0.7712 - val_loss: 0.5192 - val_accuracy: 0.7237\n",
            "Epoch 24/50\n",
            "62/62 [==============================] - 12s 196ms/step - loss: 0.5168 - accuracy: 0.7702 - val_loss: 0.8726 - val_accuracy: 0.7350\n",
            "Epoch 25/50\n",
            "62/62 [==============================] - 12s 196ms/step - loss: 0.5028 - accuracy: 0.7571 - val_loss: 0.2780 - val_accuracy: 0.7700\n",
            "Epoch 26/50\n",
            "62/62 [==============================] - 12s 197ms/step - loss: 0.4933 - accuracy: 0.7853 - val_loss: 0.3767 - val_accuracy: 0.7175\n",
            "Epoch 27/50\n",
            "62/62 [==============================] - 12s 198ms/step - loss: 0.4729 - accuracy: 0.7722 - val_loss: 0.8167 - val_accuracy: 0.7138\n",
            "Epoch 28/50\n",
            "62/62 [==============================] - 12s 197ms/step - loss: 0.4963 - accuracy: 0.7571 - val_loss: 0.3330 - val_accuracy: 0.7362\n",
            "Epoch 29/50\n",
            "62/62 [==============================] - 12s 195ms/step - loss: 0.4904 - accuracy: 0.7631 - val_loss: 0.5458 - val_accuracy: 0.7513\n",
            "Epoch 30/50\n",
            "62/62 [==============================] - 12s 193ms/step - loss: 0.4876 - accuracy: 0.7752 - val_loss: 0.7350 - val_accuracy: 0.7475\n",
            "Epoch 31/50\n",
            "62/62 [==============================] - 12s 194ms/step - loss: 0.4543 - accuracy: 0.8004 - val_loss: 0.5088 - val_accuracy: 0.7675\n",
            "Epoch 32/50\n",
            "62/62 [==============================] - 12s 194ms/step - loss: 0.4878 - accuracy: 0.7752 - val_loss: 0.4495 - val_accuracy: 0.7287\n",
            "Epoch 33/50\n",
            "62/62 [==============================] - 12s 195ms/step - loss: 0.4869 - accuracy: 0.7873 - val_loss: 0.4405 - val_accuracy: 0.7387\n",
            "Epoch 34/50\n",
            "62/62 [==============================] - 12s 196ms/step - loss: 0.4350 - accuracy: 0.8125 - val_loss: 0.6099 - val_accuracy: 0.7175\n",
            "Epoch 35/50\n",
            "62/62 [==============================] - 12s 193ms/step - loss: 0.4583 - accuracy: 0.7802 - val_loss: 0.8286 - val_accuracy: 0.7312\n",
            "Epoch 36/50\n",
            "62/62 [==============================] - 12s 195ms/step - loss: 0.4669 - accuracy: 0.7903 - val_loss: 0.5784 - val_accuracy: 0.7600\n",
            "Epoch 37/50\n",
            "62/62 [==============================] - 12s 195ms/step - loss: 0.4786 - accuracy: 0.7853 - val_loss: 0.7131 - val_accuracy: 0.7725\n",
            "Epoch 38/50\n",
            "62/62 [==============================] - 13s 207ms/step - loss: 0.4903 - accuracy: 0.7702 - val_loss: 0.5645 - val_accuracy: 0.7725\n",
            "Epoch 39/50\n",
            "62/62 [==============================] - 12s 189ms/step - loss: 0.4213 - accuracy: 0.7913 - val_loss: 0.5323 - val_accuracy: 0.7425\n",
            "Epoch 40/50\n",
            "62/62 [==============================] - 12s 188ms/step - loss: 0.4729 - accuracy: 0.7883 - val_loss: 0.3482 - val_accuracy: 0.7538\n",
            "Epoch 41/50\n",
            "62/62 [==============================] - 12s 187ms/step - loss: 0.4319 - accuracy: 0.7954 - val_loss: 0.7947 - val_accuracy: 0.7837\n",
            "Epoch 42/50\n",
            "62/62 [==============================] - 12s 189ms/step - loss: 0.4510 - accuracy: 0.8065 - val_loss: 0.3327 - val_accuracy: 0.7713\n",
            "Epoch 43/50\n",
            "62/62 [==============================] - 12s 187ms/step - loss: 0.4910 - accuracy: 0.7863 - val_loss: 0.4916 - val_accuracy: 0.7688\n",
            "Epoch 44/50\n",
            "62/62 [==============================] - 11s 185ms/step - loss: 0.4243 - accuracy: 0.8216 - val_loss: 0.7514 - val_accuracy: 0.7825\n",
            "Epoch 45/50\n",
            "62/62 [==============================] - 11s 185ms/step - loss: 0.4362 - accuracy: 0.8065 - val_loss: 0.7150 - val_accuracy: 0.7462\n",
            "Epoch 46/50\n",
            "62/62 [==============================] - 11s 183ms/step - loss: 0.4515 - accuracy: 0.8014 - val_loss: 0.4962 - val_accuracy: 0.7638\n",
            "Epoch 47/50\n",
            "62/62 [==============================] - 11s 185ms/step - loss: 0.4288 - accuracy: 0.8004 - val_loss: 0.6415 - val_accuracy: 0.7575\n",
            "Epoch 48/50\n",
            "62/62 [==============================] - 12s 192ms/step - loss: 0.4275 - accuracy: 0.8115 - val_loss: 0.5428 - val_accuracy: 0.6975\n",
            "Epoch 49/50\n",
            "62/62 [==============================] - 12s 187ms/step - loss: 0.4541 - accuracy: 0.7964 - val_loss: 0.5609 - val_accuracy: 0.7487\n",
            "Epoch 50/50\n",
            "62/62 [==============================] - 11s 185ms/step - loss: 0.4178 - accuracy: 0.8165 - val_loss: 0.7803 - val_accuracy: 0.7950\n"
          ],
          "name": "stdout"
        }
      ]
    }
  ]
}