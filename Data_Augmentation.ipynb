{
  "nbformat": 4,
  "nbformat_minor": 0,
  "metadata": {
    "colab": {
      "name": "Data Augmentation.ipynb",
      "provenance": [],
      "authorship_tag": "ABX9TyPN4vAkuuK7N/vqmgTqxqa/",
      "include_colab_link": true
    },
    "kernelspec": {
      "name": "python3",
      "display_name": "Python 3"
    },
    "accelerator": "GPU"
  },
  "cells": [
    {
      "cell_type": "markdown",
      "metadata": {
        "id": "view-in-github",
        "colab_type": "text"
      },
      "source": [
        "<a href=\"https://colab.research.google.com/github/letsgo247/Deep-Learning-Study/blob/master/Data_Augmentation.ipynb\" target=\"_parent\"><img src=\"https://colab.research.google.com/assets/colab-badge.svg\" alt=\"Open In Colab\"/></a>"
      ]
    },
    {
      "cell_type": "markdown",
      "metadata": {
        "id": "2puG2k4PCwB4",
        "colab_type": "text"
      },
      "source": [
        "#작은 데이터셋으로 강력한 이미지 분류 모델 설계하기\n",
        "\n",
        "https://keraskorea.github.io/posts/2018-10-24-little_data_powerful_model/\n",
        "\n",
        "https://www.tensorflow.org/api_docs/python/tf/keras/preprocessing/image/ImageDataGenerator#used-in-the-notebooks_1\n",
        "\n",
        "https://tykimos.github.io/2017/06/10/CNN_Data_Augmentation/"
      ]
    },
    {
      "cell_type": "code",
      "metadata": {
        "id": "_WK7MPHTBlON",
        "colab_type": "code",
        "colab": {}
      },
      "source": [
        "from keras.preprocessing.image import ImageDataGenerator, array_to_img, img_to_array, load_img\n",
        "\n",
        "datagen = ImageDataGenerator(\n",
        "        rotation_range=20,\n",
        "        width_shift_range=0.1,\n",
        "        height_shift_range=0.1,\n",
        "        shear_range=0.2,\n",
        "        zoom_range=0.1,\n",
        "        horizontal_flip=True,\n",
        "        fill_mode='constant')   #'nearest':끝의 cell로 채우기, 'constant':걍 검은색, 'reflact':거울상, 'wrap':반복 채우기\n",
        "\n",
        "img = load_img('/content/data/Osstem/김달원_#44,46.jpg')  # PIL 이미지\n",
        "x = img_to_array(img)  # (3, 150, 150) 크기의 NumPy 배열\n",
        "x = x.reshape((1,) + x.shape)  # (1, 3, 150, 150) 크기의 NumPy 배열\n",
        "\n",
        "# 아래 .flow() 함수는 임의 변환된 이미지를 배치 단위로 생성해서\n",
        "# 지정된 `preview/` 폴더에 저장합니다.\n",
        "i = 0\n",
        "for batch in datagen.flow(x, batch_size=1,\n",
        "                          save_to_dir='/content/data/Osstem/preview3', save_prefix='osstem', save_format='jpeg'):\n",
        "    i += 1\n",
        "    if i > 20:\n",
        "        break  # 이미지 20장을 생성하고 마칩니다"
      ],
      "execution_count": 14,
      "outputs": []
    }
  ]
}