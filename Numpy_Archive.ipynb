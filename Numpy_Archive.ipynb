{
  "nbformat": 4,
  "nbformat_minor": 0,
  "metadata": {
    "colab": {
      "name": "Numpy_Archive.ipynb",
      "provenance": [],
      "collapsed_sections": [],
      "authorship_tag": "ABX9TyMn5NY3lq9NiIu7cdtQuvl+",
      "include_colab_link": true
    },
    "kernelspec": {
      "name": "python3",
      "display_name": "Python 3"
    }
  },
  "cells": [
    {
      "cell_type": "markdown",
      "metadata": {
        "id": "view-in-github",
        "colab_type": "text"
      },
      "source": [
        "<a href=\"https://colab.research.google.com/github/letsgo247/Deep-Learning-Study/blob/master/Numpy_Archive.ipynb\" target=\"_parent\"><img src=\"https://colab.research.google.com/assets/colab-badge.svg\" alt=\"Open In Colab\"/></a>"
      ]
    },
    {
      "cell_type": "code",
      "metadata": {
        "id": "4qET103XPxS5",
        "colab_type": "code",
        "colab": {}
      },
      "source": [
        "import numpy as np"
      ],
      "execution_count": 2,
      "outputs": []
    },
    {
      "cell_type": "markdown",
      "metadata": {
        "id": "xvOycvdDi3X4",
        "colab_type": "text"
      },
      "source": [
        "# np.random\n"
      ]
    },
    {
      "cell_type": "code",
      "metadata": {
        "id": "_XzCM8zRbX4z",
        "colab_type": "code",
        "colab": {
          "base_uri": "https://localhost:8080/",
          "height": 181
        },
        "outputId": "4c501fff-66cb-47c7-c614-fb77af418c0c"
      },
      "source": [
        "# np.random.seed(0)\n",
        "A = np.random.rand(3,5) #0부터 1사이의 균일 분포 (size)\n",
        "B = np.random.randn(3,5)  #가우시안 표준 정규 분포(normal distribution; 평균0, 표준편차1) (size)\n",
        "C = np.random.randint(-10,10,(3,5)) #균일 분포의 정수 난수(integer) ((최소값, default=0),최대값,(size))\n",
        "\n",
        "print(A)\n",
        "print(B)\n",
        "print(C)"
      ],
      "execution_count": null,
      "outputs": [
        {
          "output_type": "stream",
          "text": [
            "[[0.99682061 0.72156386 0.27289128 0.49266388 0.75952724]\n",
            " [0.62497272 0.01274671 0.53751484 0.13796043 0.63978534]\n",
            " [0.21387595 0.38617452 0.68799457 0.84252086 0.21522958]]\n",
            "[[-0.67688634 -2.05893387 -0.30032544 -2.15821572  0.6926934 ]\n",
            " [-0.78203419 -0.01346537  0.85954915 -1.62546525  0.35024905]\n",
            " [ 0.11380367 -1.39839978 -0.84733542  0.10210685  0.65676886]]\n",
            "[[  6  -3   1   9  -2]\n",
            " [-10   2  -7   2   0]\n",
            " [-10  -6 -10   8   8]]\n"
          ],
          "name": "stdout"
        }
      ]
    },
    {
      "cell_type": "code",
      "metadata": {
        "id": "L6-iWqZF_RzL",
        "colab_type": "code",
        "colab": {
          "base_uri": "https://localhost:8080/",
          "height": 126
        },
        "outputId": "b909a8ca-d94a-4271-db10-bf0bb4a17bf8"
      },
      "source": [
        "x = np.random.randn(3,5)\n",
        "print(x)\n",
        "\n",
        "y = np.random.rand(*x.shape)\n",
        "print(y)"
      ],
      "execution_count": null,
      "outputs": [
        {
          "output_type": "stream",
          "text": [
            "[[-0.92756329  0.40594409 -2.17666589 -0.73478967  1.17989403]\n",
            " [ 1.44345013  2.02720479 -1.49917351  2.82492264  1.16633474]\n",
            " [-0.57191342  0.67301446  1.86852544  0.45947469  0.31364166]]\n",
            "[[0.52100984 0.94781824 0.47554829 0.63942976 0.45212528]\n",
            " [0.92990177 0.81984119 0.90767376 0.27008127 0.3505262 ]\n",
            " [0.9813677  0.9636095  0.82574026 0.30215038 0.08376641]]\n"
          ],
          "name": "stdout"
        }
      ]
    },
    {
      "cell_type": "markdown",
      "metadata": {
        "id": "ZKO8X5p_8l2I",
        "colab_type": "text"
      },
      "source": [
        "# zeros, ones, _like"
      ]
    },
    {
      "cell_type": "code",
      "metadata": {
        "id": "XYZ6xJ5S8vt8",
        "colab_type": "code",
        "colab": {
          "base_uri": "https://localhost:8080/",
          "height": 126
        },
        "outputId": "2ae569c2-47a9-4ff7-e979-850bf9a839e0"
      },
      "source": [
        "a = np.zeros(5)\n",
        "print(a)\n",
        "b = np.ones((5,3))\n",
        "print(b)"
      ],
      "execution_count": null,
      "outputs": [
        {
          "output_type": "stream",
          "text": [
            "[0. 0. 0. 0. 0.]\n",
            "[[1. 1. 1.]\n",
            " [1. 1. 1.]\n",
            " [1. 1. 1.]\n",
            " [1. 1. 1.]\n",
            " [1. 1. 1.]]\n"
          ],
          "name": "stdout"
        }
      ]
    },
    {
      "cell_type": "code",
      "metadata": {
        "id": "J6hfIIvS8yWF",
        "colab_type": "code",
        "colab": {
          "base_uri": "https://localhost:8080/",
          "height": 126
        },
        "outputId": "6ef77982-7d89-43a5-e1c0-9ea48f6939b0"
      },
      "source": [
        "c = np.zeros_like(b)  #_like for shape copy\n",
        "print(c)\n",
        "d = np.ones_like(a) #_like for shape copy\n",
        "print(d)"
      ],
      "execution_count": null,
      "outputs": [
        {
          "output_type": "stream",
          "text": [
            "[[0. 0. 0.]\n",
            " [0. 0. 0.]\n",
            " [0. 0. 0.]\n",
            " [0. 0. 0.]\n",
            " [0. 0. 0.]]\n",
            "[1. 1. 1. 1. 1.]\n"
          ],
          "name": "stdout"
        }
      ]
    },
    {
      "cell_type": "markdown",
      "metadata": {
        "id": "fwZd6Xq71YM8",
        "colab_type": "text"
      },
      "source": [
        "#sum"
      ]
    },
    {
      "cell_type": "code",
      "metadata": {
        "id": "JZXO45gn1Y7M",
        "colab_type": "code",
        "colab": {
          "base_uri": "https://localhost:8080/",
          "height": 163
        },
        "outputId": "b9b6819e-352e-426e-b248-706d795cee4e"
      },
      "source": [
        "a = np.array([[0, 0, 0],\n",
        "              [0, 1, 0],\n",
        "              [0, 2, 0],\n",
        "              [1, 0, 0],\n",
        "              [1, 1, 0]])\n",
        "\n",
        "print(np.sum(a, axis=1, keepdims=True))   #keepdims: 기존의 dimension(not shape)를 유지\n",
        "print(np.sum(a, axis=1, keepdims=False))\n",
        "print(np.sum(a, axis=0, keepdims=True))\n",
        "print(np.sum(a, axis=0, keepdims=False))"
      ],
      "execution_count": null,
      "outputs": [
        {
          "output_type": "stream",
          "text": [
            "[[0]\n",
            " [1]\n",
            " [2]\n",
            " [1]\n",
            " [2]]\n",
            "[0 1 2 1 2]\n",
            "[[2 4 0]]\n",
            "[2 4 0]\n"
          ],
          "name": "stdout"
        }
      ]
    },
    {
      "cell_type": "markdown",
      "metadata": {
        "id": "kp7L6KcJaH3E",
        "colab_type": "text"
      },
      "source": [
        "#prod (=product, 내적)"
      ]
    },
    {
      "cell_type": "code",
      "metadata": {
        "id": "GykEJKa8aK2I",
        "colab_type": "code",
        "colab": {
          "base_uri": "https://localhost:8080/",
          "height": 72
        },
        "outputId": "633349a4-926f-4160-c0ff-9f0fcc907a96"
      },
      "source": [
        "c  = np.array([[1, 2],\n",
        "            [3, 4]])\n",
        "\n",
        "print(np.prod(c))\n",
        "print(np.prod(c, axis=0))\n",
        "print(np.prod(c, axis=1))"
      ],
      "execution_count": 4,
      "outputs": [
        {
          "output_type": "stream",
          "text": [
            "24\n",
            "[3 8]\n",
            "[ 2 12]\n"
          ],
          "name": "stdout"
        }
      ]
    },
    {
      "cell_type": "markdown",
      "metadata": {
        "id": "ZK4_vUVBkMgW",
        "colab_type": "text"
      },
      "source": [
        "# Array 에서 특정 조건 부합하는 데이터 골라내기"
      ]
    },
    {
      "cell_type": "code",
      "metadata": {
        "id": "hrNzY7pnIIFN",
        "colab_type": "code",
        "colab": {
          "base_uri": "https://localhost:8080/",
          "height": 126
        },
        "outputId": "0c64c960-c250-4f50-e340-f4ba17297d84"
      },
      "source": [
        "C = np.random.randint(-10,10,(3,5))\n",
        "print(C)\n",
        "\n",
        "C>0   #조건"
      ],
      "execution_count": null,
      "outputs": [
        {
          "output_type": "stream",
          "text": [
            "[[  1  -3   9  -6  -5]\n",
            " [ -1   8  -9   1   0]\n",
            " [-10  -9  -2   1 -10]]\n"
          ],
          "name": "stdout"
        },
        {
          "output_type": "execute_result",
          "data": {
            "text/plain": [
              "array([[ True, False,  True, False, False],\n",
              "       [False,  True, False,  True, False],\n",
              "       [False, False, False,  True, False]])"
            ]
          },
          "metadata": {
            "tags": []
          },
          "execution_count": 20
        }
      ]
    },
    {
      "cell_type": "code",
      "metadata": {
        "id": "E334s16cJguK",
        "colab_type": "code",
        "colab": {
          "base_uri": "https://localhost:8080/",
          "height": 90
        },
        "outputId": "e505e809-3e33-40fc-ca9c-682068629772"
      },
      "source": [
        "print(C[C>0]) #해당 원소만 골라내기\n",
        "print(C*(C>0))  #배열 유지한채 골라내기"
      ],
      "execution_count": null,
      "outputs": [
        {
          "output_type": "stream",
          "text": [
            "[1 9 8 1 1]\n",
            "[[1 0 9 0 0]\n",
            " [0 8 0 1 0]\n",
            " [0 0 0 1 0]]\n"
          ],
          "name": "stdout"
        }
      ]
    },
    {
      "cell_type": "code",
      "metadata": {
        "id": "nIxlGELKQT-W",
        "colab_type": "code",
        "colab": {
          "base_uri": "https://localhost:8080/",
          "height": 181
        },
        "outputId": "a2f2eff7-37e9-41e3-cd25-0f30069fe022"
      },
      "source": [
        "#길지만 조금 더 직관적인 방법\n",
        "D = np.random.randint(-10,10,(3,5))\n",
        "print(D)\n",
        "\n",
        "mask = (D<=0)\n",
        "print(mask)\n",
        "\n",
        "D[mask] = 0\n",
        "print(D)"
      ],
      "execution_count": null,
      "outputs": [
        {
          "output_type": "stream",
          "text": [
            "[[ -1  -4  -4   5   6]\n",
            " [ -3   3  -1 -10   6]\n",
            " [  4  -5  -1   2  -9]]\n",
            "[[ True  True  True False False]\n",
            " [ True False  True  True False]\n",
            " [False  True  True False  True]]\n",
            "[[0 0 0 5 6]\n",
            " [0 3 0 0 6]\n",
            " [4 0 0 2 0]]\n"
          ],
          "name": "stdout"
        }
      ]
    },
    {
      "cell_type": "markdown",
      "metadata": {
        "id": "tvXlnIFX3E4D",
        "colab_type": "text"
      },
      "source": [
        "# np.arange"
      ]
    },
    {
      "cell_type": "code",
      "metadata": {
        "id": "HFZe07icjGBT",
        "colab_type": "code",
        "colab": {
          "base_uri": "https://localhost:8080/",
          "height": 35
        },
        "outputId": "4d9108df-ecb5-4a9b-9de8-8ee854ed2abf"
      },
      "source": [
        "np.arange(3)  #인수 하나면 stop"
      ],
      "execution_count": null,
      "outputs": [
        {
          "output_type": "execute_result",
          "data": {
            "text/plain": [
              "array([0, 1, 2])"
            ]
          },
          "metadata": {
            "tags": []
          },
          "execution_count": 23
        }
      ]
    },
    {
      "cell_type": "code",
      "metadata": {
        "id": "noamMtyE3bkD",
        "colab_type": "code",
        "colab": {
          "base_uri": "https://localhost:8080/",
          "height": 35
        },
        "outputId": "d92078d2-56db-4914-e496-4d1185ceb777"
      },
      "source": [
        "np.arange(3,7)  #인수 두개면 start,stop"
      ],
      "execution_count": null,
      "outputs": [
        {
          "output_type": "execute_result",
          "data": {
            "text/plain": [
              "array([3, 4, 5, 6])"
            ]
          },
          "metadata": {
            "tags": []
          },
          "execution_count": 24
        }
      ]
    },
    {
      "cell_type": "code",
      "metadata": {
        "id": "Lp6ykuEH3Ith",
        "colab_type": "code",
        "colab": {
          "base_uri": "https://localhost:8080/",
          "height": 35
        },
        "outputId": "40fc6ae4-d530-42ad-e68a-3d599ff1bc91"
      },
      "source": [
        "np.arange(3.0)  #dtype"
      ],
      "execution_count": null,
      "outputs": [
        {
          "output_type": "execute_result",
          "data": {
            "text/plain": [
              "array([0., 1., 2.])"
            ]
          },
          "metadata": {
            "tags": []
          },
          "execution_count": 25
        }
      ]
    },
    {
      "cell_type": "code",
      "metadata": {
        "id": "RKoxy3tm3cjn",
        "colab_type": "code",
        "colab": {
          "base_uri": "https://localhost:8080/",
          "height": 35
        },
        "outputId": "04d6ccc0-e8b4-469d-9607-875c93d82e7f"
      },
      "source": [
        "\n",
        "np.arange(3,7,2)  #인수 세개면 interval"
      ],
      "execution_count": null,
      "outputs": [
        {
          "output_type": "execute_result",
          "data": {
            "text/plain": [
              "array([3, 5])"
            ]
          },
          "metadata": {
            "tags": []
          },
          "execution_count": 26
        }
      ]
    },
    {
      "cell_type": "markdown",
      "metadata": {
        "id": "zKueWyNRuN3w",
        "colab_type": "text"
      },
      "source": [
        "#np.linspace (='Linearly spaced' vectors)"
      ]
    },
    {
      "cell_type": "code",
      "metadata": {
        "id": "bxkCoBZzuRPb",
        "colab_type": "code",
        "colab": {
          "base_uri": "https://localhost:8080/",
          "height": 90
        },
        "outputId": "c6454c57-eae0-4e34-8ee7-5fb01dee23fd"
      },
      "source": [
        "d = np.linspace(0, 10, 5)    #start ~ end 사이의 값을 num 개수만큼 생성하여 numpy array로 반환합니다.\n",
        "c = np.linspace(0, 10, num=5, endpoint=False, retstep=False)    # endpoint가 True일 경우 end의 값이 마지막 값이 되며, False일 경우 end의 값을 마지막 값으로 사용하지 않습니다.\n",
        "a = np.linspace(0, 10, num=5, endpoint=True, retstep=True)    # retstep이 True일 경우 값들의 간격을 배열에 포함합니다. numpy.arange()의 step과 동일한 의미를 지닙니다.\n",
        "             #default :   50           True          False\n",
        "print(d)\n",
        "print(c)\n",
        "print(a)\n",
        "\n",
        "type(d)"
      ],
      "execution_count": null,
      "outputs": [
        {
          "output_type": "stream",
          "text": [
            "[ 0.   2.5  5.   7.5 10. ]\n",
            "[0. 2. 4. 6. 8.]\n",
            "(array([ 0. ,  2.5,  5. ,  7.5, 10. ]), 2.5)\n"
          ],
          "name": "stdout"
        },
        {
          "output_type": "execute_result",
          "data": {
            "text/plain": [
              "numpy.ndarray"
            ]
          },
          "metadata": {
            "tags": []
          },
          "execution_count": 68
        }
      ]
    },
    {
      "cell_type": "markdown",
      "metadata": {
        "id": "UKw0RJqmi5Vc",
        "colab_type": "text"
      },
      "source": [
        "# np.argmax"
      ]
    },
    {
      "cell_type": "code",
      "metadata": {
        "id": "N1UF7VyKi8b7",
        "colab_type": "code",
        "colab": {
          "base_uri": "https://localhost:8080/",
          "height": 108
        },
        "outputId": "7602a3f6-4999-41d3-e843-f2879695de36"
      },
      "source": [
        "a = np.random.randint(0,100,(5,3))\n",
        "print(a)\n",
        "b = np.random.randint(0,100,(5,3))"
      ],
      "execution_count": null,
      "outputs": [
        {
          "output_type": "stream",
          "text": [
            "[[23 40 80]\n",
            " [92 46  7]\n",
            " [90 27 70]\n",
            " [69 52 89]\n",
            " [86 66 64]]\n"
          ],
          "name": "stdout"
        }
      ]
    },
    {
      "cell_type": "code",
      "metadata": {
        "id": "ifC23O4yjFc0",
        "colab_type": "code",
        "colab": {
          "base_uri": "https://localhost:8080/",
          "height": 72
        },
        "outputId": "1cf30883-ec14-4c13-9fb2-761975e61d7a"
      },
      "source": [
        "print(np.argmax(a))\n",
        "print(np.argmax(a, axis=0))\n",
        "print(np.argmax(a, axis=1))   #'axis'는 진짜 그 '축'의 방향을 생각하면 맞다. '데이터'의 방향을 생각하면 헷갈린다."
      ],
      "execution_count": null,
      "outputs": [
        {
          "output_type": "stream",
          "text": [
            "3\n",
            "[1 4 3]\n",
            "[2 0 0 2 0]\n"
          ],
          "name": "stdout"
        }
      ]
    },
    {
      "cell_type": "code",
      "metadata": {
        "id": "RMUDgIpMImoC",
        "colab_type": "code",
        "colab": {
          "base_uri": "https://localhost:8080/",
          "height": 35
        },
        "outputId": "1146ff64-f15d-4f8f-857f-24d21f9f2eeb"
      },
      "source": [
        "N, D = a.shape\n",
        "maxidx = np.argmax(a,axis=1)\n",
        "a[np.arange(N),maxidx]  #argmax로 찾은 최대값만 뽑아내기"
      ],
      "execution_count": null,
      "outputs": [
        {
          "output_type": "execute_result",
          "data": {
            "text/plain": [
              "array([80, 92, 90, 89, 86])"
            ]
          },
          "metadata": {
            "tags": []
          },
          "execution_count": 31
        }
      ]
    },
    {
      "cell_type": "code",
      "metadata": {
        "id": "b6xMeG-LH8I7",
        "colab_type": "code",
        "colab": {
          "base_uri": "https://localhost:8080/",
          "height": 72
        },
        "outputId": "37ab7177-5f71-4943-c33c-5315cdd83f38"
      },
      "source": [
        "a[np.array([0,2,4])]  #특정 index 뽑아내기 1 (그냥  array가 아니라 np.array 쓰는게 포인트!)"
      ],
      "execution_count": null,
      "outputs": [
        {
          "output_type": "execute_result",
          "data": {
            "text/plain": [
              "array([[23, 40, 80],\n",
              "       [90, 27, 70],\n",
              "       [86, 66, 64]])"
            ]
          },
          "metadata": {
            "tags": []
          },
          "execution_count": 32
        }
      ]
    },
    {
      "cell_type": "code",
      "metadata": {
        "id": "9yEsf5sJIZN9",
        "colab_type": "code",
        "colab": {
          "base_uri": "https://localhost:8080/",
          "height": 72
        },
        "outputId": "7ee649e3-c06e-4666-eeaf-17481d0ede38"
      },
      "source": [
        "a[[0,2,4],:]  #특정 index 뽑아내기 2"
      ],
      "execution_count": null,
      "outputs": [
        {
          "output_type": "execute_result",
          "data": {
            "text/plain": [
              "array([[23, 40, 80],\n",
              "       [90, 27, 70],\n",
              "       [86, 66, 64]])"
            ]
          },
          "metadata": {
            "tags": []
          },
          "execution_count": 33
        }
      ]
    },
    {
      "cell_type": "markdown",
      "metadata": {
        "id": "TT1C9cyvu0XF",
        "colab_type": "text"
      },
      "source": [
        "# max(=amax) vs maximum"
      ]
    },
    {
      "cell_type": "code",
      "metadata": {
        "id": "bFtfS4Q9u2M1",
        "colab_type": "code",
        "colab": {
          "base_uri": "https://localhost:8080/",
          "height": 199
        },
        "outputId": "fc757794-79b6-4d86-ac6d-344924eb0e9e"
      },
      "source": [
        "A = np.random.randint(0,100,(5,3))\n",
        "B = np.random.randint(0,100,(5,3))\n",
        "print(A)\n",
        "print(B)"
      ],
      "execution_count": null,
      "outputs": [
        {
          "output_type": "stream",
          "text": [
            "[[78 65 65]\n",
            " [30 61 89]\n",
            " [76 52 77]\n",
            " [ 9 44 48]\n",
            " [34 51 40]]\n",
            "[[96 60 85]\n",
            " [ 3 68 77]\n",
            " [ 9 73 41]\n",
            " [42 92 61]\n",
            " [48 56 75]]\n"
          ],
          "name": "stdout"
        }
      ]
    },
    {
      "cell_type": "code",
      "metadata": {
        "id": "6TkhtJW_u89d",
        "colab_type": "code",
        "colab": {
          "base_uri": "https://localhost:8080/",
          "height": 35
        },
        "outputId": "037e4349-4879-4804-858a-eebc0135e8ba"
      },
      "source": [
        "A.max() #max: 하나의 배열에서 max 찾아냄"
      ],
      "execution_count": null,
      "outputs": [
        {
          "output_type": "execute_result",
          "data": {
            "text/plain": [
              "89"
            ]
          },
          "metadata": {
            "tags": []
          },
          "execution_count": 35
        }
      ]
    },
    {
      "cell_type": "code",
      "metadata": {
        "id": "6hd22bFiu_Xu",
        "colab_type": "code",
        "colab": {
          "base_uri": "https://localhost:8080/",
          "height": 35
        },
        "outputId": "aced0adb-6357-4e86-8e2f-479a99f3df5f"
      },
      "source": [
        "np.amax(B)  #amax = max"
      ],
      "execution_count": null,
      "outputs": [
        {
          "output_type": "execute_result",
          "data": {
            "text/plain": [
              "96"
            ]
          },
          "metadata": {
            "tags": []
          },
          "execution_count": 36
        }
      ]
    },
    {
      "cell_type": "code",
      "metadata": {
        "id": "d6eotIHOvN7t",
        "colab_type": "code",
        "colab": {
          "base_uri": "https://localhost:8080/",
          "height": 108
        },
        "outputId": "0eb71847-3390-415a-fdab-b630746cc976"
      },
      "source": [
        "np.maximum(A,B) #maximum: 두개의 배열을 비교해서 더 큰 값 찾아냄"
      ],
      "execution_count": null,
      "outputs": [
        {
          "output_type": "execute_result",
          "data": {
            "text/plain": [
              "array([[96, 65, 85],\n",
              "       [30, 68, 89],\n",
              "       [76, 73, 77],\n",
              "       [42, 92, 61],\n",
              "       [48, 56, 75]])"
            ]
          },
          "metadata": {
            "tags": []
          },
          "execution_count": 37
        }
      ]
    },
    {
      "cell_type": "markdown",
      "metadata": {
        "id": "9JwA-5NHD7u6",
        "colab_type": "text"
      },
      "source": [
        "# type vs dtype (& astype)"
      ]
    },
    {
      "cell_type": "code",
      "metadata": {
        "id": "S3kEaRNn3fPh",
        "colab_type": "code",
        "colab": {
          "base_uri": "https://localhost:8080/",
          "height": 54
        },
        "outputId": "cf59ad6c-5e7c-4e7c-f573-6a39665c926d"
      },
      "source": [
        "A = np.random.randint(1,4,(2,2))\n",
        "print(A)"
      ],
      "execution_count": null,
      "outputs": [
        {
          "output_type": "stream",
          "text": [
            "[[3 1]\n",
            " [1 2]]\n"
          ],
          "name": "stdout"
        }
      ]
    },
    {
      "cell_type": "code",
      "metadata": {
        "id": "HCQ4xBSxEKRi",
        "colab_type": "code",
        "colab": {
          "base_uri": "https://localhost:8080/",
          "height": 35
        },
        "outputId": "b62429bc-f6dd-44a8-8530-8a7f5e29a977"
      },
      "source": [
        "type(A) #변수의 type"
      ],
      "execution_count": null,
      "outputs": [
        {
          "output_type": "execute_result",
          "data": {
            "text/plain": [
              "numpy.ndarray"
            ]
          },
          "metadata": {
            "tags": []
          },
          "execution_count": 39
        }
      ]
    },
    {
      "cell_type": "code",
      "metadata": {
        "id": "TVRWbOXG-bLM",
        "colab_type": "code",
        "colab": {
          "base_uri": "https://localhost:8080/",
          "height": 54
        },
        "outputId": "7f335172-fa80-48f2-a313-65fe78ec1242"
      },
      "source": [
        "B = [[1,2],[3,4]]\n",
        "print(type(B))\n",
        "C = np.asarray(B)   #입력된 데이터를 numpy.ndarray() 형식으로 만들어 줌\n",
        "print(type(C))"
      ],
      "execution_count": 28,
      "outputs": [
        {
          "output_type": "stream",
          "text": [
            "<class 'list'>\n",
            "<class 'numpy.ndarray'>\n"
          ],
          "name": "stdout"
        }
      ]
    },
    {
      "cell_type": "code",
      "metadata": {
        "id": "WtZQzJnLEXox",
        "colab_type": "code",
        "colab": {
          "base_uri": "https://localhost:8080/",
          "height": 35
        },
        "outputId": "61797233-defd-4ad8-99bb-1fb4f5d3113e"
      },
      "source": [
        "A.dtype #변수가 사용하는 데이터의 dtype"
      ],
      "execution_count": null,
      "outputs": [
        {
          "output_type": "execute_result",
          "data": {
            "text/plain": [
              "dtype('int64')"
            ]
          },
          "metadata": {
            "tags": []
          },
          "execution_count": 40
        }
      ]
    },
    {
      "cell_type": "code",
      "metadata": {
        "id": "KbxszWdDprvY",
        "colab_type": "code",
        "colab": {
          "base_uri": "https://localhost:8080/",
          "height": 54
        },
        "outputId": "02b3f9ba-f7ee-4f41-f126-441aacb649ec"
      },
      "source": [
        "A.astype(float) #데이터형 변환 'AsType'"
      ],
      "execution_count": null,
      "outputs": [
        {
          "output_type": "execute_result",
          "data": {
            "text/plain": [
              "array([[3., 1.],\n",
              "       [1., 2.]])"
            ]
          },
          "metadata": {
            "tags": []
          },
          "execution_count": 41
        }
      ]
    },
    {
      "cell_type": "markdown",
      "metadata": {
        "id": "cNMS4PsRFUuM",
        "colab_type": "text"
      },
      "source": [
        "# shape vs size (& flatten, reshape)"
      ]
    },
    {
      "cell_type": "code",
      "metadata": {
        "id": "TWdPGrseFW4g",
        "colab_type": "code",
        "colab": {
          "base_uri": "https://localhost:8080/",
          "height": 54
        },
        "outputId": "2e466ca0-bddf-4da6-d566-5fc34c7e38cf"
      },
      "source": [
        "A = np.random.randint(1,4,(2,2))\n",
        "print(A)"
      ],
      "execution_count": null,
      "outputs": [
        {
          "output_type": "stream",
          "text": [
            "[[2 1]\n",
            " [1 3]]\n"
          ],
          "name": "stdout"
        }
      ]
    },
    {
      "cell_type": "code",
      "metadata": {
        "id": "1uD8f2KoEFrN",
        "colab_type": "code",
        "colab": {
          "base_uri": "https://localhost:8080/",
          "height": 35
        },
        "outputId": "3b7f0745-8ed6-45f8-f3d2-a5363e4e3d92"
      },
      "source": [
        "A.shape #차원의 형상\n",
        "\n",
        "# A.shape() #() 붙일 필요 없다! 문법 오류!"
      ],
      "execution_count": null,
      "outputs": [
        {
          "output_type": "execute_result",
          "data": {
            "text/plain": [
              "(2, 2)"
            ]
          },
          "metadata": {
            "tags": []
          },
          "execution_count": 43
        }
      ]
    },
    {
      "cell_type": "code",
      "metadata": {
        "id": "BqpQ9x6Cv51h",
        "colab_type": "code",
        "colab": {
          "base_uri": "https://localhost:8080/",
          "height": 35
        },
        "outputId": "0b3b1967-50bd-4571-d5a6-9ed7d2ef83ef"
      },
      "source": [
        "A.ndim  #차원 개수"
      ],
      "execution_count": null,
      "outputs": [
        {
          "output_type": "execute_result",
          "data": {
            "text/plain": [
              "2"
            ]
          },
          "metadata": {
            "tags": []
          },
          "execution_count": 44
        }
      ]
    },
    {
      "cell_type": "code",
      "metadata": {
        "id": "VrR2Vl91EOkk",
        "colab_type": "code",
        "colab": {
          "base_uri": "https://localhost:8080/",
          "height": 35
        },
        "outputId": "306c13c4-6366-4e71-a893-ce48aa5482d3"
      },
      "source": [
        "A.size  #데이터의 개수"
      ],
      "execution_count": null,
      "outputs": [
        {
          "output_type": "execute_result",
          "data": {
            "text/plain": [
              "4"
            ]
          },
          "metadata": {
            "tags": []
          },
          "execution_count": 45
        }
      ]
    },
    {
      "cell_type": "code",
      "metadata": {
        "id": "i10HYGM0ESW8",
        "colab_type": "code",
        "colab": {
          "base_uri": "https://localhost:8080/",
          "height": 35
        },
        "outputId": "1ad3497f-0c62-41d9-e3f0-a8c228a85eda"
      },
      "source": [
        "A.flatten() #Vectorize"
      ],
      "execution_count": null,
      "outputs": [
        {
          "output_type": "execute_result",
          "data": {
            "text/plain": [
              "array([2, 1, 1, 3])"
            ]
          },
          "metadata": {
            "tags": []
          },
          "execution_count": 46
        }
      ]
    },
    {
      "cell_type": "code",
      "metadata": {
        "id": "5CXU5gW69MNh",
        "colab_type": "code",
        "colab": {
          "base_uri": "https://localhost:8080/",
          "height": 35
        },
        "outputId": "09724e29-dcba-405b-fbee-67866118e2cc"
      },
      "source": [
        "A.ravel() #flatten과 같은 기능. 'ravel'='얽힌 것을 풀다'"
      ],
      "execution_count": null,
      "outputs": [
        {
          "output_type": "execute_result",
          "data": {
            "text/plain": [
              "array([2, 1, 1, 3])"
            ]
          },
          "metadata": {
            "tags": []
          },
          "execution_count": 47
        }
      ]
    },
    {
      "cell_type": "code",
      "metadata": {
        "id": "28HwdLCLFd9x",
        "colab_type": "code",
        "colab": {
          "base_uri": "https://localhost:8080/",
          "height": 108
        },
        "outputId": "507be5ed-fbd7-42a5-db48-2b21d8d73cf3"
      },
      "source": [
        "A.reshape(2,2,-1)  #reshape()의 '-1'이 의미하는 바는, 변경된 배열의 '-1' 위치의 차원은 '원래 배열의 길이와 남은 차원으로 부터 추정 된다'는 뜻"
      ],
      "execution_count": null,
      "outputs": [
        {
          "output_type": "execute_result",
          "data": {
            "text/plain": [
              "array([[[2],\n",
              "        [1]],\n",
              "\n",
              "       [[1],\n",
              "        [3]]])"
            ]
          },
          "metadata": {
            "tags": []
          },
          "execution_count": 48
        }
      ]
    },
    {
      "cell_type": "markdown",
      "metadata": {
        "id": "aH_ewtA1T3oE",
        "colab_type": "text"
      },
      "source": [
        "# linalg"
      ]
    },
    {
      "cell_type": "code",
      "metadata": {
        "id": "RlC25aCxT8KV",
        "colab_type": "code",
        "colab": {
          "base_uri": "https://localhost:8080/",
          "height": 35
        },
        "outputId": "21a0ecfc-ff7c-44b3-c8c1-350fce274d44"
      },
      "source": [
        "np.linalg.norm(A) #벡터의 norm(=크기, 스칼라 값) 계산"
      ],
      "execution_count": null,
      "outputs": [
        {
          "output_type": "execute_result",
          "data": {
            "text/plain": [
              "3.872983346207417"
            ]
          },
          "metadata": {
            "tags": []
          },
          "execution_count": 49
        }
      ]
    },
    {
      "cell_type": "markdown",
      "metadata": {
        "id": "aLCSaOPDyn20",
        "colab_type": "text"
      },
      "source": [
        "#배열 붙이기 (r_, c_, hstack, vstack, concatenate)"
      ]
    },
    {
      "cell_type": "code",
      "metadata": {
        "id": "jzlGrDOlypcw",
        "colab_type": "code",
        "colab": {}
      },
      "source": [
        "a = np.array([1, 2, 3])\n",
        "b = np.array([4, 5, 6])"
      ],
      "execution_count": null,
      "outputs": []
    },
    {
      "cell_type": "code",
      "metadata": {
        "id": "Aiufnu0WyrT6",
        "colab_type": "code",
        "colab": {
          "base_uri": "https://localhost:8080/",
          "height": 35
        },
        "outputId": "4773ecf9-d246-4f32-edda-d6e506e9c014"
      },
      "source": [
        "#두 배열을 왼쪽에서 오른쪽으로 붙이기 \n",
        "\n",
        "np.r_[a, b]\n",
        "np.hstack([a, b])\n",
        "np.concatenate((a, b), axis = 0)"
      ],
      "execution_count": null,
      "outputs": [
        {
          "output_type": "execute_result",
          "data": {
            "text/plain": [
              "array([1, 2, 3, 4, 5, 6])"
            ]
          },
          "metadata": {
            "tags": []
          },
          "execution_count": 74
        }
      ]
    },
    {
      "cell_type": "code",
      "metadata": {
        "id": "3uoF4d70yzb5",
        "colab_type": "code",
        "colab": {
          "base_uri": "https://localhost:8080/",
          "height": 54
        },
        "outputId": "90cd1b26-a4b4-4962-e29f-1a266e348bbe"
      },
      "source": [
        "#두 배열을 위에서 아래로 붙이기\n",
        "\n",
        "np.r_[[a], [b]]\n",
        "np.vstack([a, b])\n",
        "# np.concatenate((c, d), axis = 1) # for 2D ~ array"
      ],
      "execution_count": null,
      "outputs": [
        {
          "output_type": "execute_result",
          "data": {
            "text/plain": [
              "array([[1, 2, 3],\n",
              "       [4, 5, 6]])"
            ]
          },
          "metadata": {
            "tags": []
          },
          "execution_count": 81
        }
      ]
    },
    {
      "cell_type": "code",
      "metadata": {
        "id": "nDLndEJEy2JM",
        "colab_type": "code",
        "colab": {
          "base_uri": "https://localhost:8080/",
          "height": 72
        },
        "outputId": "59cbda88-a585-4171-975e-2a1ab819ed60"
      },
      "source": [
        "#두 개의 1차원 배열을 칼럼으로 세로로 붙여서 2차원 배열 만들기\n",
        "\n",
        "np.c_[a, b]\n",
        "np.column_stack([a, b])\n",
        "# np.concatenate((c.T, d.T), axis = 1) # for 2D~ array"
      ],
      "execution_count": null,
      "outputs": [
        {
          "output_type": "execute_result",
          "data": {
            "text/plain": [
              "array([[1, 4],\n",
              "       [2, 5],\n",
              "       [3, 6]])"
            ]
          },
          "metadata": {
            "tags": []
          },
          "execution_count": 82
        }
      ]
    },
    {
      "cell_type": "code",
      "metadata": {
        "id": "7Rd-zV3d5bur",
        "colab_type": "code",
        "colab": {
          "base_uri": "https://localhost:8080/",
          "height": 35
        },
        "outputId": "b588a0cd-5af5-4171-eb7e-b318ec38f3d0"
      },
      "source": [
        "params = {}\n",
        "c = 1\n",
        "params['a'+str(c)] = (1,2)\n",
        "print(params)"
      ],
      "execution_count": 36,
      "outputs": [
        {
          "output_type": "stream",
          "text": [
            "{'a1': (1, 2)}\n"
          ],
          "name": "stdout"
        }
      ]
    },
    {
      "cell_type": "code",
      "metadata": {
        "id": "BpVO_lHC5oYa",
        "colab_type": "code",
        "colab": {
          "base_uri": "https://localhost:8080/",
          "height": 35
        },
        "outputId": "9ab89137-d7d3-4110-fdd7-fdf1b9f4e6de"
      },
      "source": [
        "baram = {}\n",
        "baram['a'] = (1,2)\n",
        "baram['b'] = (3,4)\n",
        "print(baram['a'])"
      ],
      "execution_count": 21,
      "outputs": [
        {
          "output_type": "stream",
          "text": [
            "(1, 2)\n"
          ],
          "name": "stdout"
        }
      ]
    },
    {
      "cell_type": "markdown",
      "metadata": {
        "id": "56ne60XWHmaz",
        "colab_type": "text"
      },
      "source": [
        "#Test Board"
      ]
    },
    {
      "cell_type": "code",
      "metadata": {
        "id": "nUpuHIo55tIS",
        "colab_type": "code",
        "colab": {
          "base_uri": "https://localhost:8080/",
          "height": 54
        },
        "outputId": "20f9b606-8faf-4c76-b126-0bae501f0302"
      },
      "source": [
        "a = len((1,2))\n",
        "\n",
        "for i in range(a):\n",
        "  print(i)"
      ],
      "execution_count": 45,
      "outputs": [
        {
          "output_type": "stream",
          "text": [
            "0\n",
            "1\n"
          ],
          "name": "stdout"
        }
      ]
    }
  ]
}