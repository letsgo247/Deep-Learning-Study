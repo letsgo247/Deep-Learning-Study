{
  "nbformat": 4,
  "nbformat_minor": 0,
  "metadata": {
    "colab": {
      "name": "Numpy_Archive.ipynb",
      "provenance": [],
      "collapsed_sections": [],
      "authorship_tag": "ABX9TyOjik8gF+ESpF7pITddaL5K",
      "include_colab_link": true
    },
    "kernelspec": {
      "name": "python3",
      "display_name": "Python 3"
    }
  },
  "cells": [
    {
      "cell_type": "markdown",
      "metadata": {
        "id": "view-in-github",
        "colab_type": "text"
      },
      "source": [
        "<a href=\"https://colab.research.google.com/github/letsgo247/Deep-Learning-Study/blob/master/Numpy_Archive.ipynb\" target=\"_parent\"><img src=\"https://colab.research.google.com/assets/colab-badge.svg\" alt=\"Open In Colab\"/></a>"
      ]
    },
    {
      "cell_type": "code",
      "metadata": {
        "id": "4qET103XPxS5",
        "colab_type": "code",
        "colab": {}
      },
      "source": [
        "import numpy as np"
      ],
      "execution_count": 0,
      "outputs": []
    },
    {
      "cell_type": "markdown",
      "metadata": {
        "id": "xvOycvdDi3X4",
        "colab_type": "text"
      },
      "source": [
        "# np.random\n"
      ]
    },
    {
      "cell_type": "code",
      "metadata": {
        "id": "_XzCM8zRbX4z",
        "colab_type": "code",
        "outputId": "75c2b992-be28-4ad2-f041-b131b201a8d0",
        "colab": {
          "base_uri": "https://localhost:8080/",
          "height": 181
        }
      },
      "source": [
        "# np.random.seed(0)\n",
        "A = np.random.rand(3,5) #0부터 1사이의 균일 분포 (size)\n",
        "B = np.random.randn(3,5)  #가우시안 표준 정규 분포(normal distribution) (size)\n",
        "C = np.random.randint(-10,10,(3,5)) #균일 분포의 정수 난수(integer) (최소값,최대값,(size))\n",
        "\n",
        "print(A)\n",
        "print(B)\n",
        "print(C)"
      ],
      "execution_count": 0,
      "outputs": [
        {
          "output_type": "stream",
          "text": [
            "[[0.82090487 0.45963181 0.4414737  0.87510805 0.78822019]\n",
            " [0.77239542 0.141838   0.20285093 0.5585546  0.09142261]\n",
            " [0.88156108 0.78858421 0.277626   0.13542328 0.67662687]]\n",
            "[[ 0.62501334 -1.11625026 -1.04990844  0.58170031  2.7924621 ]\n",
            " [-1.31535032 -0.67305919  0.45252564 -0.39764018  0.54348662]\n",
            " [-0.36691676 -1.90759531  1.0164531  -1.22251893  0.77775934]]\n",
            "[[ 0 -9 -4  0  7]\n",
            " [-4  0 -6  5 -6]\n",
            " [-3 -7  2 -8  2]]\n"
          ],
          "name": "stdout"
        }
      ]
    },
    {
      "cell_type": "markdown",
      "metadata": {
        "id": "ZKO8X5p_8l2I",
        "colab_type": "text"
      },
      "source": [
        "# zeros, ones, _like"
      ]
    },
    {
      "cell_type": "code",
      "metadata": {
        "id": "XYZ6xJ5S8vt8",
        "colab_type": "code",
        "outputId": "2fc02e47-a16c-478b-a763-6171bf2e4ac6",
        "colab": {
          "base_uri": "https://localhost:8080/",
          "height": 126
        }
      },
      "source": [
        "a = np.zeros(5)\n",
        "print(a)\n",
        "b = np.ones((5,3))\n",
        "print(b)"
      ],
      "execution_count": 0,
      "outputs": [
        {
          "output_type": "stream",
          "text": [
            "[0. 0. 0. 0. 0.]\n",
            "[[1. 1. 1.]\n",
            " [1. 1. 1.]\n",
            " [1. 1. 1.]\n",
            " [1. 1. 1.]\n",
            " [1. 1. 1.]]\n"
          ],
          "name": "stdout"
        }
      ]
    },
    {
      "cell_type": "code",
      "metadata": {
        "id": "J6hfIIvS8yWF",
        "colab_type": "code",
        "outputId": "cd10a28f-042d-477e-b146-4a5ac04469e3",
        "colab": {
          "base_uri": "https://localhost:8080/",
          "height": 126
        }
      },
      "source": [
        "c = np.zeros_like(b)  #_like for shape copy\n",
        "print(c)\n",
        "d = np.ones_like(a) #_like for shape copy\n",
        "print(d)"
      ],
      "execution_count": 0,
      "outputs": [
        {
          "output_type": "stream",
          "text": [
            "[[0. 0. 0.]\n",
            " [0. 0. 0.]\n",
            " [0. 0. 0.]\n",
            " [0. 0. 0.]\n",
            " [0. 0. 0.]]\n",
            "[1. 1. 1. 1. 1.]\n"
          ],
          "name": "stdout"
        }
      ]
    },
    {
      "cell_type": "markdown",
      "metadata": {
        "id": "ZK4_vUVBkMgW",
        "colab_type": "text"
      },
      "source": [
        "# Array 에서 특정 조건 부합하는 데이터 골라내기"
      ]
    },
    {
      "cell_type": "code",
      "metadata": {
        "id": "hrNzY7pnIIFN",
        "colab_type": "code",
        "outputId": "7d642624-80d9-4e55-de32-8e9ccbdd410e",
        "colab": {
          "base_uri": "https://localhost:8080/",
          "height": 126
        }
      },
      "source": [
        "C = np.random.randint(-10,10,(3,5))\n",
        "print(C)\n",
        "\n",
        "C>0   #조건"
      ],
      "execution_count": 0,
      "outputs": [
        {
          "output_type": "stream",
          "text": [
            "[[-4  0  5  3 -3]\n",
            " [-1 -7  1 -4 -6]\n",
            " [-2 -7  4 -2 -5]]\n"
          ],
          "name": "stdout"
        },
        {
          "output_type": "execute_result",
          "data": {
            "text/plain": [
              "array([[False, False,  True,  True, False],\n",
              "       [False, False,  True, False, False],\n",
              "       [False, False,  True, False, False]])"
            ]
          },
          "metadata": {
            "tags": []
          },
          "execution_count": 3
        }
      ]
    },
    {
      "cell_type": "code",
      "metadata": {
        "id": "E334s16cJguK",
        "colab_type": "code",
        "outputId": "3d7d12ab-c90e-4932-facf-eda87b97308b",
        "colab": {
          "base_uri": "https://localhost:8080/",
          "height": 90
        }
      },
      "source": [
        "print(C[C>0]) #해당 원소만 골라내기\n",
        "print(C*(C>0))  #배열 유지한채 골라내기"
      ],
      "execution_count": 0,
      "outputs": [
        {
          "output_type": "stream",
          "text": [
            "[5 3 1 4]\n",
            "[[0 0 5 3 0]\n",
            " [0 0 1 0 0]\n",
            " [0 0 4 0 0]]\n"
          ],
          "name": "stdout"
        }
      ]
    },
    {
      "cell_type": "markdown",
      "metadata": {
        "id": "tvXlnIFX3E4D",
        "colab_type": "text"
      },
      "source": [
        "# np.arange"
      ]
    },
    {
      "cell_type": "code",
      "metadata": {
        "id": "HFZe07icjGBT",
        "colab_type": "code",
        "outputId": "87e1d3fd-462b-4b24-a780-e7668949fd80",
        "colab": {
          "base_uri": "https://localhost:8080/",
          "height": 35
        }
      },
      "source": [
        "np.arange(3)  #인수 하나면 stop"
      ],
      "execution_count": 0,
      "outputs": [
        {
          "output_type": "execute_result",
          "data": {
            "text/plain": [
              "array([0, 1, 2])"
            ]
          },
          "metadata": {
            "tags": []
          },
          "execution_count": 5
        }
      ]
    },
    {
      "cell_type": "code",
      "metadata": {
        "id": "noamMtyE3bkD",
        "colab_type": "code",
        "outputId": "0950cee9-074f-409a-a347-b66845c81103",
        "colab": {
          "base_uri": "https://localhost:8080/",
          "height": 35
        }
      },
      "source": [
        "np.arange(3,7)  #인수 두개면 start,stop"
      ],
      "execution_count": 0,
      "outputs": [
        {
          "output_type": "execute_result",
          "data": {
            "text/plain": [
              "array([3, 4, 5, 6])"
            ]
          },
          "metadata": {
            "tags": []
          },
          "execution_count": 6
        }
      ]
    },
    {
      "cell_type": "code",
      "metadata": {
        "id": "Lp6ykuEH3Ith",
        "colab_type": "code",
        "outputId": "f5459e12-4dfd-41bb-df9e-56381512e498",
        "colab": {
          "base_uri": "https://localhost:8080/",
          "height": 35
        }
      },
      "source": [
        "np.arange(3.0)  #dtype"
      ],
      "execution_count": 0,
      "outputs": [
        {
          "output_type": "execute_result",
          "data": {
            "text/plain": [
              "array([0., 1., 2.])"
            ]
          },
          "metadata": {
            "tags": []
          },
          "execution_count": 7
        }
      ]
    },
    {
      "cell_type": "code",
      "metadata": {
        "id": "RKoxy3tm3cjn",
        "colab_type": "code",
        "outputId": "f67a6d86-6618-426f-b920-547b92a273b1",
        "colab": {
          "base_uri": "https://localhost:8080/",
          "height": 35
        }
      },
      "source": [
        "np.arange(3,7,2)  #인수 세개면 interval"
      ],
      "execution_count": 0,
      "outputs": [
        {
          "output_type": "execute_result",
          "data": {
            "text/plain": [
              "array([3, 5])"
            ]
          },
          "metadata": {
            "tags": []
          },
          "execution_count": 8
        }
      ]
    },
    {
      "cell_type": "markdown",
      "metadata": {
        "id": "UKw0RJqmi5Vc",
        "colab_type": "text"
      },
      "source": [
        "# np.argmax"
      ]
    },
    {
      "cell_type": "code",
      "metadata": {
        "id": "N1UF7VyKi8b7",
        "colab_type": "code",
        "outputId": "983b6bc4-7101-4508-b6c3-306b0dbeebd3",
        "colab": {
          "base_uri": "https://localhost:8080/",
          "height": 108
        }
      },
      "source": [
        "a = np.random.randint(0,100,(5,3))\n",
        "print(a)\n",
        "b = np.random.randint(0,100,(5,3))"
      ],
      "execution_count": 0,
      "outputs": [
        {
          "output_type": "stream",
          "text": [
            "[[48 70 29]\n",
            " [54 40 32]\n",
            " [46 91 99]\n",
            " [87 34 86]\n",
            " [75 55 56]]\n"
          ],
          "name": "stdout"
        }
      ]
    },
    {
      "cell_type": "code",
      "metadata": {
        "id": "ifC23O4yjFc0",
        "colab_type": "code",
        "outputId": "1233b346-deae-44da-86c2-2cf034ea921b",
        "colab": {
          "base_uri": "https://localhost:8080/",
          "height": 72
        }
      },
      "source": [
        "print(np.argmax(a))\n",
        "print(np.argmax(a, axis=0))\n",
        "print(np.argmax(a, axis=1))"
      ],
      "execution_count": 0,
      "outputs": [
        {
          "output_type": "stream",
          "text": [
            "8\n",
            "[3 2 2]\n",
            "[1 0 2 0 0]\n"
          ],
          "name": "stdout"
        }
      ]
    },
    {
      "cell_type": "code",
      "metadata": {
        "id": "RMUDgIpMImoC",
        "colab_type": "code",
        "outputId": "096e1972-8145-423b-8b09-feced675666f",
        "colab": {
          "base_uri": "https://localhost:8080/",
          "height": 35
        }
      },
      "source": [
        "N, D = a.shape\n",
        "maxidx = np.argmax(a,axis=1)\n",
        "a[np.arange(N),maxidx]  #argmax로 찾은 최대값만 뽑아내기"
      ],
      "execution_count": 0,
      "outputs": [
        {
          "output_type": "execute_result",
          "data": {
            "text/plain": [
              "array([70, 54, 99, 87, 75])"
            ]
          },
          "metadata": {
            "tags": []
          },
          "execution_count": 11
        }
      ]
    },
    {
      "cell_type": "code",
      "metadata": {
        "id": "b6xMeG-LH8I7",
        "colab_type": "code",
        "outputId": "2fca2195-1e45-4af2-995f-985a76b5af2c",
        "colab": {
          "base_uri": "https://localhost:8080/",
          "height": 72
        }
      },
      "source": [
        "a[np.array([0,2,4])]  #특정 index 뽑아내기 1 (그냥  array가 아니라 np.array 쓰는게 포인트!)"
      ],
      "execution_count": 0,
      "outputs": [
        {
          "output_type": "execute_result",
          "data": {
            "text/plain": [
              "array([[48, 70, 29],\n",
              "       [46, 91, 99],\n",
              "       [75, 55, 56]])"
            ]
          },
          "metadata": {
            "tags": []
          },
          "execution_count": 12
        }
      ]
    },
    {
      "cell_type": "code",
      "metadata": {
        "id": "9yEsf5sJIZN9",
        "colab_type": "code",
        "outputId": "1f8e73b0-9f84-419c-faaf-7b0b576346e8",
        "colab": {
          "base_uri": "https://localhost:8080/",
          "height": 72
        }
      },
      "source": [
        "a[[0,2,4],:]  #특정 index 뽑아내기 2"
      ],
      "execution_count": 0,
      "outputs": [
        {
          "output_type": "execute_result",
          "data": {
            "text/plain": [
              "array([[48, 70, 29],\n",
              "       [46, 91, 99],\n",
              "       [75, 55, 56]])"
            ]
          },
          "metadata": {
            "tags": []
          },
          "execution_count": 13
        }
      ]
    },
    {
      "cell_type": "markdown",
      "metadata": {
        "id": "TT1C9cyvu0XF",
        "colab_type": "text"
      },
      "source": [
        "# max(=amax) vs maximum"
      ]
    },
    {
      "cell_type": "code",
      "metadata": {
        "id": "bFtfS4Q9u2M1",
        "colab_type": "code",
        "outputId": "378a625e-d785-42e9-82d1-692e6d2c6ec3",
        "colab": {
          "base_uri": "https://localhost:8080/",
          "height": 199
        }
      },
      "source": [
        "A = np.random.randint(0,100,(5,3))\n",
        "B = np.random.randint(0,100,(5,3))\n",
        "print(A)\n",
        "print(B)"
      ],
      "execution_count": 0,
      "outputs": [
        {
          "output_type": "stream",
          "text": [
            "[[93 88 37]\n",
            " [72 89 62]\n",
            " [22 98 20]\n",
            " [95  8 90]\n",
            " [21 66 57]]\n",
            "[[38 86 22]\n",
            " [57 21 62]\n",
            " [86 51 42]\n",
            " [18 19 18]\n",
            " [19 72 49]]\n"
          ],
          "name": "stdout"
        }
      ]
    },
    {
      "cell_type": "code",
      "metadata": {
        "id": "6TkhtJW_u89d",
        "colab_type": "code",
        "outputId": "824851a1-13e3-4626-8a1a-9e58057304f4",
        "colab": {
          "base_uri": "https://localhost:8080/",
          "height": 35
        }
      },
      "source": [
        "A.max() #max: 하나의 배열에서 max 찾아냄"
      ],
      "execution_count": 0,
      "outputs": [
        {
          "output_type": "execute_result",
          "data": {
            "text/plain": [
              "98"
            ]
          },
          "metadata": {
            "tags": []
          },
          "execution_count": 15
        }
      ]
    },
    {
      "cell_type": "code",
      "metadata": {
        "id": "6hd22bFiu_Xu",
        "colab_type": "code",
        "outputId": "e0630f1a-e2f0-4098-a2e7-0efc9ed6f891",
        "colab": {
          "base_uri": "https://localhost:8080/",
          "height": 35
        }
      },
      "source": [
        "np.amax(B)  #amax = max"
      ],
      "execution_count": 0,
      "outputs": [
        {
          "output_type": "execute_result",
          "data": {
            "text/plain": [
              "86"
            ]
          },
          "metadata": {
            "tags": []
          },
          "execution_count": 16
        }
      ]
    },
    {
      "cell_type": "code",
      "metadata": {
        "id": "d6eotIHOvN7t",
        "colab_type": "code",
        "outputId": "c999d6b8-f83e-41ad-9747-5bf7853c0cb2",
        "colab": {
          "base_uri": "https://localhost:8080/",
          "height": 108
        }
      },
      "source": [
        "np.maximum(A,B) #maximum: 두개의 배열을 비교해서 더 큰 값 찾아냄"
      ],
      "execution_count": 0,
      "outputs": [
        {
          "output_type": "execute_result",
          "data": {
            "text/plain": [
              "array([[93, 88, 37],\n",
              "       [72, 89, 62],\n",
              "       [86, 98, 42],\n",
              "       [95, 19, 90],\n",
              "       [21, 72, 57]])"
            ]
          },
          "metadata": {
            "tags": []
          },
          "execution_count": 17
        }
      ]
    },
    {
      "cell_type": "markdown",
      "metadata": {
        "id": "9JwA-5NHD7u6",
        "colab_type": "text"
      },
      "source": [
        "# type vs dtype (& astype)"
      ]
    },
    {
      "cell_type": "code",
      "metadata": {
        "id": "S3kEaRNn3fPh",
        "colab_type": "code",
        "outputId": "29919541-613a-42d2-9fa8-135074c0235d",
        "colab": {
          "base_uri": "https://localhost:8080/",
          "height": 54
        }
      },
      "source": [
        "A = np.random.randint(1,4,(2,2))\n",
        "print(A)"
      ],
      "execution_count": 0,
      "outputs": [
        {
          "output_type": "stream",
          "text": [
            "[[3 3]\n",
            " [3 2]]\n"
          ],
          "name": "stdout"
        }
      ]
    },
    {
      "cell_type": "code",
      "metadata": {
        "id": "HCQ4xBSxEKRi",
        "colab_type": "code",
        "outputId": "adf942b7-41b2-4157-85a1-dafedef0360f",
        "colab": {
          "base_uri": "https://localhost:8080/",
          "height": 35
        }
      },
      "source": [
        "type(A) #변수의 type"
      ],
      "execution_count": 0,
      "outputs": [
        {
          "output_type": "execute_result",
          "data": {
            "text/plain": [
              "numpy.ndarray"
            ]
          },
          "metadata": {
            "tags": []
          },
          "execution_count": 19
        }
      ]
    },
    {
      "cell_type": "code",
      "metadata": {
        "id": "WtZQzJnLEXox",
        "colab_type": "code",
        "outputId": "a2826e9c-7e43-4b78-f423-450a26efc5f4",
        "colab": {
          "base_uri": "https://localhost:8080/",
          "height": 35
        }
      },
      "source": [
        "A.dtype #변수가 사용하는 데이터의 dtype"
      ],
      "execution_count": 0,
      "outputs": [
        {
          "output_type": "execute_result",
          "data": {
            "text/plain": [
              "dtype('int64')"
            ]
          },
          "metadata": {
            "tags": []
          },
          "execution_count": 20
        }
      ]
    },
    {
      "cell_type": "code",
      "metadata": {
        "id": "KbxszWdDprvY",
        "colab_type": "code",
        "outputId": "c6728343-dd07-40d7-d3b5-2d17bfee6129",
        "colab": {
          "base_uri": "https://localhost:8080/",
          "height": 54
        }
      },
      "source": [
        "A.astype(float) #데이터형 변환 'AsType'"
      ],
      "execution_count": 0,
      "outputs": [
        {
          "output_type": "execute_result",
          "data": {
            "text/plain": [
              "array([[3., 3.],\n",
              "       [3., 2.]])"
            ]
          },
          "metadata": {
            "tags": []
          },
          "execution_count": 21
        }
      ]
    },
    {
      "cell_type": "markdown",
      "metadata": {
        "id": "cNMS4PsRFUuM",
        "colab_type": "text"
      },
      "source": [
        "# shape vs size (& flatten, reshape)"
      ]
    },
    {
      "cell_type": "code",
      "metadata": {
        "id": "TWdPGrseFW4g",
        "colab_type": "code",
        "outputId": "60948ec8-cc62-44a8-dbfc-710f17c6732b",
        "colab": {
          "base_uri": "https://localhost:8080/",
          "height": 54
        }
      },
      "source": [
        "A = np.random.randint(1,4,(2,2))\n",
        "print(A)"
      ],
      "execution_count": 0,
      "outputs": [
        {
          "output_type": "stream",
          "text": [
            "[[2 2]\n",
            " [2 1]]\n"
          ],
          "name": "stdout"
        }
      ]
    },
    {
      "cell_type": "code",
      "metadata": {
        "id": "1uD8f2KoEFrN",
        "colab_type": "code",
        "outputId": "3d6cc367-94e5-4896-c49c-f924b6269309",
        "colab": {
          "base_uri": "https://localhost:8080/",
          "height": 35
        }
      },
      "source": [
        "A.shape #차원의 형상"
      ],
      "execution_count": 0,
      "outputs": [
        {
          "output_type": "execute_result",
          "data": {
            "text/plain": [
              "(2, 2)"
            ]
          },
          "metadata": {
            "tags": []
          },
          "execution_count": 23
        }
      ]
    },
    {
      "cell_type": "code",
      "metadata": {
        "id": "RevRHs9sEI-2",
        "colab_type": "code",
        "outputId": "b67c3158-156f-40e0-a447-fff337c18a54",
        "colab": {
          "base_uri": "https://localhost:8080/",
          "height": 173
        }
      },
      "source": [
        "A.shape() #() 붙일 필요 없다! 문법 오류!"
      ],
      "execution_count": 0,
      "outputs": [
        {
          "output_type": "error",
          "ename": "TypeError",
          "evalue": "ignored",
          "traceback": [
            "\u001b[0;31m---------------------------------------------------------------------------\u001b[0m",
            "\u001b[0;31mTypeError\u001b[0m                                 Traceback (most recent call last)",
            "\u001b[0;32m<ipython-input-24-e9d739cf0963>\u001b[0m in \u001b[0;36m<module>\u001b[0;34m()\u001b[0m\n\u001b[0;32m----> 1\u001b[0;31m \u001b[0mA\u001b[0m\u001b[0;34m.\u001b[0m\u001b[0mshape\u001b[0m\u001b[0;34m(\u001b[0m\u001b[0;34m)\u001b[0m \u001b[0;31m#() 붙일 필요 없다! 문법 오류!\u001b[0m\u001b[0;34m\u001b[0m\u001b[0;34m\u001b[0m\u001b[0m\n\u001b[0m",
            "\u001b[0;31mTypeError\u001b[0m: 'tuple' object is not callable"
          ]
        }
      ]
    },
    {
      "cell_type": "code",
      "metadata": {
        "id": "BqpQ9x6Cv51h",
        "colab_type": "code",
        "colab": {}
      },
      "source": [
        "A.ndim  #차원 개수"
      ],
      "execution_count": 0,
      "outputs": []
    },
    {
      "cell_type": "code",
      "metadata": {
        "id": "VrR2Vl91EOkk",
        "colab_type": "code",
        "colab": {}
      },
      "source": [
        "A.size  #데이터의 개수"
      ],
      "execution_count": 0,
      "outputs": []
    },
    {
      "cell_type": "code",
      "metadata": {
        "id": "i10HYGM0ESW8",
        "colab_type": "code",
        "colab": {}
      },
      "source": [
        "A.flatten() #Vectorize"
      ],
      "execution_count": 0,
      "outputs": []
    },
    {
      "cell_type": "code",
      "metadata": {
        "id": "28HwdLCLFd9x",
        "colab_type": "code",
        "colab": {}
      },
      "source": [
        "A.reshape(4,1)"
      ],
      "execution_count": 0,
      "outputs": []
    },
    {
      "cell_type": "code",
      "metadata": {
        "id": "zEKmxc0tGtYZ",
        "colab_type": "code",
        "colab": {}
      },
      "source": [
        "np.maximum()"
      ],
      "execution_count": 0,
      "outputs": []
    }
  ]
}