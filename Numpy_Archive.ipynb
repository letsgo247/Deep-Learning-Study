{
  "nbformat": 4,
  "nbformat_minor": 0,
  "metadata": {
    "colab": {
      "name": "Numpy_Archive.ipynb",
      "provenance": [],
      "collapsed_sections": [],
      "authorship_tag": "ABX9TyOiI99udFrbim9Oz1bGKsUH",
      "include_colab_link": true
    },
    "kernelspec": {
      "name": "python3",
      "display_name": "Python 3"
    }
  },
  "cells": [
    {
      "cell_type": "markdown",
      "metadata": {
        "id": "view-in-github",
        "colab_type": "text"
      },
      "source": [
        "<a href=\"https://colab.research.google.com/github/letsgo247/Deep-Learning-Study/blob/master/Numpy_Archive.ipynb\" target=\"_parent\"><img src=\"https://colab.research.google.com/assets/colab-badge.svg\" alt=\"Open In Colab\"/></a>"
      ]
    },
    {
      "cell_type": "code",
      "metadata": {
        "id": "4qET103XPxS5",
        "colab_type": "code",
        "colab": {}
      },
      "source": [
        "import numpy as np"
      ],
      "execution_count": 0,
      "outputs": []
    },
    {
      "cell_type": "markdown",
      "metadata": {
        "id": "xvOycvdDi3X4",
        "colab_type": "text"
      },
      "source": [
        "np.random\n"
      ]
    },
    {
      "cell_type": "code",
      "metadata": {
        "id": "_XzCM8zRbX4z",
        "colab_type": "code",
        "colab": {
          "base_uri": "https://localhost:8080/",
          "height": 181
        },
        "outputId": "c5a4f32e-7322-4a3d-93e7-254322a235d5"
      },
      "source": [
        "# np.random.seed(0)\n",
        "A = np.random.rand(3,5) #0부터 1사이의 균일 분포 (size)\n",
        "B = np.random.randn(3,5)  #가우시안 표준 정규 분포(normal distribution)\n",
        "C = np.random.randint(-10,10,(3,5)) #균일 분포의 정수 난수(integer) (최소값,최대값,(size))\n",
        "print(A)\n",
        "print(B)\n",
        "print(C)"
      ],
      "execution_count": 5,
      "outputs": [
        {
          "output_type": "stream",
          "text": [
            "[[0.78908855 0.17758263 0.34648745 0.35994608 0.67187386]\n",
            " [0.89574113 0.45852146 0.38896888 0.58812815 0.04847539]\n",
            " [0.16438062 0.64617894 0.30822998 0.42438923 0.37441916]]\n",
            "[[-0.77390389  0.03935142 -0.65206387  1.36858974  0.16089513]\n",
            " [-0.07769926  1.60955412  0.20606042  1.22752766  2.7644449 ]\n",
            " [ 0.06801386  0.75363547 -0.20676158 -1.34938024 -0.65674683]]\n",
            "[[-6 -9 -2 -5 -1]\n",
            " [ 1  6 -6 -8 -4]\n",
            " [-5  5 -9  2 -4]]\n"
          ],
          "name": "stdout"
        }
      ]
    },
    {
      "cell_type": "markdown",
      "metadata": {
        "id": "ZK4_vUVBkMgW",
        "colab_type": "text"
      },
      "source": [
        "Array 에서 특정 조건 부합하는 데이터 골라내기"
      ]
    },
    {
      "cell_type": "code",
      "metadata": {
        "id": "hrNzY7pnIIFN",
        "colab_type": "code",
        "outputId": "5da3748d-ee3b-4499-b986-1b1db9634c89",
        "colab": {
          "base_uri": "https://localhost:8080/",
          "height": 126
        }
      },
      "source": [
        "C = np.random.randint(-10,10,(3,5))\n",
        "print(C)\n",
        "\n",
        "D = C>0   #조건\n",
        "\n",
        "print(D*C)"
      ],
      "execution_count": 6,
      "outputs": [
        {
          "output_type": "stream",
          "text": [
            "[[  4   9   9   0   4]\n",
            " [ -9   4   0 -10   1]\n",
            " [  7   0  -4   9   0]]\n",
            "[[4 9 9 0 4]\n",
            " [0 4 0 0 1]\n",
            " [7 0 0 9 0]]\n"
          ],
          "name": "stdout"
        }
      ]
    },
    {
      "cell_type": "markdown",
      "metadata": {
        "id": "UKw0RJqmi5Vc",
        "colab_type": "text"
      },
      "source": [
        "np.argmax"
      ]
    },
    {
      "cell_type": "code",
      "metadata": {
        "id": "N1UF7VyKi8b7",
        "colab_type": "code",
        "outputId": "df378230-1f10-41ae-be0e-1211530ff593",
        "colab": {
          "base_uri": "https://localhost:8080/",
          "height": 54
        }
      },
      "source": [
        "a = np.arange(6).reshape(2,3) + 10\n",
        "print(a)"
      ],
      "execution_count": 7,
      "outputs": [
        {
          "output_type": "stream",
          "text": [
            "[[10 11 12]\n",
            " [13 14 15]]\n"
          ],
          "name": "stdout"
        }
      ]
    },
    {
      "cell_type": "code",
      "metadata": {
        "id": "ifC23O4yjFc0",
        "colab_type": "code",
        "outputId": "a6b68a19-a694-4c64-811b-2b3c6b7e635b",
        "colab": {
          "base_uri": "https://localhost:8080/",
          "height": 72
        }
      },
      "source": [
        "print(np.argmax(a))\n",
        "print(np.argmax(a, axis=0))\n",
        "print(np.argmax(a, axis=1))"
      ],
      "execution_count": 8,
      "outputs": [
        {
          "output_type": "stream",
          "text": [
            "5\n",
            "[1 1 1]\n",
            "[2 2]\n"
          ],
          "name": "stdout"
        }
      ]
    },
    {
      "cell_type": "markdown",
      "metadata": {
        "id": "tvXlnIFX3E4D",
        "colab_type": "text"
      },
      "source": [
        "np.arange"
      ]
    },
    {
      "cell_type": "code",
      "metadata": {
        "id": "HFZe07icjGBT",
        "colab_type": "code",
        "colab": {
          "base_uri": "https://localhost:8080/",
          "height": 35
        },
        "outputId": "9e405dfa-9121-44f9-96b2-c3c85446f203"
      },
      "source": [
        "np.arange(3)  #인수 하나면 stop"
      ],
      "execution_count": 3,
      "outputs": [
        {
          "output_type": "execute_result",
          "data": {
            "text/plain": [
              "array([0, 1, 2])"
            ]
          },
          "metadata": {
            "tags": []
          },
          "execution_count": 3
        }
      ]
    },
    {
      "cell_type": "code",
      "metadata": {
        "id": "noamMtyE3bkD",
        "colab_type": "code",
        "colab": {
          "base_uri": "https://localhost:8080/",
          "height": 35
        },
        "outputId": "4916ce81-4343-4687-c6cc-b59eba31f2f1"
      },
      "source": [
        "np.arange(3,7)  #인수 두개면 start,stop"
      ],
      "execution_count": 11,
      "outputs": [
        {
          "output_type": "execute_result",
          "data": {
            "text/plain": [
              "array([3, 4, 5, 6])"
            ]
          },
          "metadata": {
            "tags": []
          },
          "execution_count": 11
        }
      ]
    },
    {
      "cell_type": "code",
      "metadata": {
        "id": "Lp6ykuEH3Ith",
        "colab_type": "code",
        "colab": {
          "base_uri": "https://localhost:8080/",
          "height": 35
        },
        "outputId": "0d3b6290-95a4-4542-eac1-227fb3c8834e"
      },
      "source": [
        "np.arange(3.0)  #dtype"
      ],
      "execution_count": 9,
      "outputs": [
        {
          "output_type": "execute_result",
          "data": {
            "text/plain": [
              "array([0., 1., 2.])"
            ]
          },
          "metadata": {
            "tags": []
          },
          "execution_count": 9
        }
      ]
    },
    {
      "cell_type": "code",
      "metadata": {
        "id": "RKoxy3tm3cjn",
        "colab_type": "code",
        "colab": {
          "base_uri": "https://localhost:8080/",
          "height": 35
        },
        "outputId": "23ce9da0-7245-44a5-bfa0-eb4242b5b31b"
      },
      "source": [
        "np.arange(3,7,2)  #인수 세개면 interval"
      ],
      "execution_count": 12,
      "outputs": [
        {
          "output_type": "execute_result",
          "data": {
            "text/plain": [
              "array([3, 5])"
            ]
          },
          "metadata": {
            "tags": []
          },
          "execution_count": 12
        }
      ]
    },
    {
      "cell_type": "code",
      "metadata": {
        "id": "S3kEaRNn3fPh",
        "colab_type": "code",
        "colab": {}
      },
      "source": [
        ""
      ],
      "execution_count": 0,
      "outputs": []
    }
  ]
}