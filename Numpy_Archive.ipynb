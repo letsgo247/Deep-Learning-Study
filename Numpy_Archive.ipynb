{
  "nbformat": 4,
  "nbformat_minor": 0,
  "metadata": {
    "colab": {
      "name": "Numpy_Archive.ipynb",
      "provenance": [],
      "collapsed_sections": [],
      "authorship_tag": "ABX9TyMvZ3fxvfe435L9IPLJ0Jde",
      "include_colab_link": true
    },
    "kernelspec": {
      "name": "python3",
      "display_name": "Python 3"
    }
  },
  "cells": [
    {
      "cell_type": "markdown",
      "metadata": {
        "id": "view-in-github",
        "colab_type": "text"
      },
      "source": [
        "<a href=\"https://colab.research.google.com/github/letsgo247/Deep-Learning-Study/blob/master/Numpy_Archive.ipynb\" target=\"_parent\"><img src=\"https://colab.research.google.com/assets/colab-badge.svg\" alt=\"Open In Colab\"/></a>"
      ]
    },
    {
      "cell_type": "code",
      "metadata": {
        "id": "4qET103XPxS5",
        "colab_type": "code",
        "colab": {}
      },
      "source": [
        "import numpy as np"
      ],
      "execution_count": 0,
      "outputs": []
    },
    {
      "cell_type": "markdown",
      "metadata": {
        "id": "xvOycvdDi3X4",
        "colab_type": "text"
      },
      "source": [
        "# np.random\n"
      ]
    },
    {
      "cell_type": "code",
      "metadata": {
        "id": "_XzCM8zRbX4z",
        "colab_type": "code",
        "colab": {
          "base_uri": "https://localhost:8080/",
          "height": 181
        },
        "outputId": "c5a4f32e-7322-4a3d-93e7-254322a235d5"
      },
      "source": [
        "# np.random.seed(0)\n",
        "A = np.random.rand(3,5) #0부터 1사이의 균일 분포 (size)\n",
        "B = np.random.randn(3,5)  #가우시안 표준 정규 분포(normal distribution)\n",
        "C = np.random.randint(-10,10,(3,5)) #균일 분포의 정수 난수(integer) (최소값,최대값,(size))\n",
        "print(A)\n",
        "print(B)\n",
        "print(C)"
      ],
      "execution_count": 5,
      "outputs": [
        {
          "output_type": "stream",
          "text": [
            "[[0.78908855 0.17758263 0.34648745 0.35994608 0.67187386]\n",
            " [0.89574113 0.45852146 0.38896888 0.58812815 0.04847539]\n",
            " [0.16438062 0.64617894 0.30822998 0.42438923 0.37441916]]\n",
            "[[-0.77390389  0.03935142 -0.65206387  1.36858974  0.16089513]\n",
            " [-0.07769926  1.60955412  0.20606042  1.22752766  2.7644449 ]\n",
            " [ 0.06801386  0.75363547 -0.20676158 -1.34938024 -0.65674683]]\n",
            "[[-6 -9 -2 -5 -1]\n",
            " [ 1  6 -6 -8 -4]\n",
            " [-5  5 -9  2 -4]]\n"
          ],
          "name": "stdout"
        }
      ]
    },
    {
      "cell_type": "markdown",
      "metadata": {
        "id": "ZK4_vUVBkMgW",
        "colab_type": "text"
      },
      "source": [
        "# Array 에서 특정 조건 부합하는 데이터 골라내기"
      ]
    },
    {
      "cell_type": "code",
      "metadata": {
        "id": "hrNzY7pnIIFN",
        "colab_type": "code",
        "outputId": "e5a211fd-a2a1-486d-c848-69806be295ef",
        "colab": {
          "base_uri": "https://localhost:8080/",
          "height": 126
        }
      },
      "source": [
        "C = np.random.randint(-10,10,(3,5))\n",
        "print(C)\n",
        "\n",
        "C>0   #조건"
      ],
      "execution_count": 55,
      "outputs": [
        {
          "output_type": "stream",
          "text": [
            "[[-2 -6  1  3  2]\n",
            " [ 6 -9  8 -8 -5]\n",
            " [-1 -4 -8  9 -2]]\n"
          ],
          "name": "stdout"
        },
        {
          "output_type": "execute_result",
          "data": {
            "text/plain": [
              "array([[False, False,  True,  True,  True],\n",
              "       [ True, False,  True, False, False],\n",
              "       [False, False, False,  True, False]])"
            ]
          },
          "metadata": {
            "tags": []
          },
          "execution_count": 55
        }
      ]
    },
    {
      "cell_type": "code",
      "metadata": {
        "id": "E334s16cJguK",
        "colab_type": "code",
        "colab": {
          "base_uri": "https://localhost:8080/",
          "height": 90
        },
        "outputId": "25130602-42ee-4513-c440-d582013aefe1"
      },
      "source": [
        "print(C[C>0]) #해당 원소만 골라내기\n",
        "print(C*(C>0))  #배열 유지한채 골라내기"
      ],
      "execution_count": 54,
      "outputs": [
        {
          "output_type": "stream",
          "text": [
            "[3 5 6 2 3 9 7]\n",
            "[[3 5 0 0 6]\n",
            " [2 0 0 3 9]\n",
            " [0 7 0 0 0]]\n"
          ],
          "name": "stdout"
        }
      ]
    },
    {
      "cell_type": "markdown",
      "metadata": {
        "id": "tvXlnIFX3E4D",
        "colab_type": "text"
      },
      "source": [
        "# np.arange"
      ]
    },
    {
      "cell_type": "code",
      "metadata": {
        "id": "HFZe07icjGBT",
        "colab_type": "code",
        "colab": {
          "base_uri": "https://localhost:8080/",
          "height": 35
        },
        "outputId": "9e405dfa-9121-44f9-96b2-c3c85446f203"
      },
      "source": [
        "np.arange(3)  #인수 하나면 stop"
      ],
      "execution_count": 3,
      "outputs": [
        {
          "output_type": "execute_result",
          "data": {
            "text/plain": [
              "array([0, 1, 2])"
            ]
          },
          "metadata": {
            "tags": []
          },
          "execution_count": 3
        }
      ]
    },
    {
      "cell_type": "code",
      "metadata": {
        "id": "noamMtyE3bkD",
        "colab_type": "code",
        "colab": {
          "base_uri": "https://localhost:8080/",
          "height": 35
        },
        "outputId": "4916ce81-4343-4687-c6cc-b59eba31f2f1"
      },
      "source": [
        "np.arange(3,7)  #인수 두개면 start,stop"
      ],
      "execution_count": 11,
      "outputs": [
        {
          "output_type": "execute_result",
          "data": {
            "text/plain": [
              "array([3, 4, 5, 6])"
            ]
          },
          "metadata": {
            "tags": []
          },
          "execution_count": 11
        }
      ]
    },
    {
      "cell_type": "code",
      "metadata": {
        "id": "Lp6ykuEH3Ith",
        "colab_type": "code",
        "colab": {
          "base_uri": "https://localhost:8080/",
          "height": 35
        },
        "outputId": "0d3b6290-95a4-4542-eac1-227fb3c8834e"
      },
      "source": [
        "np.arange(3.0)  #dtype"
      ],
      "execution_count": 9,
      "outputs": [
        {
          "output_type": "execute_result",
          "data": {
            "text/plain": [
              "array([0., 1., 2.])"
            ]
          },
          "metadata": {
            "tags": []
          },
          "execution_count": 9
        }
      ]
    },
    {
      "cell_type": "code",
      "metadata": {
        "id": "RKoxy3tm3cjn",
        "colab_type": "code",
        "colab": {
          "base_uri": "https://localhost:8080/",
          "height": 35
        },
        "outputId": "23ce9da0-7245-44a5-bfa0-eb4242b5b31b"
      },
      "source": [
        "np.arange(3,7,2)  #인수 세개면 interval"
      ],
      "execution_count": 12,
      "outputs": [
        {
          "output_type": "execute_result",
          "data": {
            "text/plain": [
              "array([3, 5])"
            ]
          },
          "metadata": {
            "tags": []
          },
          "execution_count": 12
        }
      ]
    },
    {
      "cell_type": "markdown",
      "metadata": {
        "id": "UKw0RJqmi5Vc",
        "colab_type": "text"
      },
      "source": [
        "# np.argmax"
      ]
    },
    {
      "cell_type": "code",
      "metadata": {
        "id": "N1UF7VyKi8b7",
        "colab_type": "code",
        "outputId": "80c881d3-9eb3-468a-bbef-6687512c7e59",
        "colab": {
          "base_uri": "https://localhost:8080/",
          "height": 108
        }
      },
      "source": [
        "a = np.random.randint(0,100,(5,3))\n",
        "print(a)\n",
        "b = np.random.randint(0,100,(5,3))"
      ],
      "execution_count": 64,
      "outputs": [
        {
          "output_type": "stream",
          "text": [
            "[[52 64 81]\n",
            " [42 14 80]\n",
            " [88 67 28]\n",
            " [53 95 94]\n",
            " [63 12  8]]\n"
          ],
          "name": "stdout"
        }
      ]
    },
    {
      "cell_type": "code",
      "metadata": {
        "id": "ifC23O4yjFc0",
        "colab_type": "code",
        "outputId": "1cabc4a0-2974-495a-ebd3-f2b86caa289d",
        "colab": {
          "base_uri": "https://localhost:8080/",
          "height": 72
        }
      },
      "source": [
        "print(np.argmax(a))\n",
        "print(np.argmax(a, axis=0))\n",
        "print(np.argmax(a, axis=1))"
      ],
      "execution_count": 42,
      "outputs": [
        {
          "output_type": "stream",
          "text": [
            "6\n",
            "[2 4 2]\n",
            "[2 1 0 2 1]\n"
          ],
          "name": "stdout"
        }
      ]
    },
    {
      "cell_type": "code",
      "metadata": {
        "id": "RMUDgIpMImoC",
        "colab_type": "code",
        "colab": {
          "base_uri": "https://localhost:8080/",
          "height": 35
        },
        "outputId": "4c82d54e-fce6-450f-ae37-5b370b0ea706"
      },
      "source": [
        "N, D = a.shape\n",
        "maxidx = np.argmax(a,axis=1)\n",
        "a[np.arange(N),maxidx]  #argmax로 찾은 최대값만 뽑아내기"
      ],
      "execution_count": 48,
      "outputs": [
        {
          "output_type": "execute_result",
          "data": {
            "text/plain": [
              "array([25, 79, 96, 87, 93])"
            ]
          },
          "metadata": {
            "tags": []
          },
          "execution_count": 48
        }
      ]
    },
    {
      "cell_type": "code",
      "metadata": {
        "id": "b6xMeG-LH8I7",
        "colab_type": "code",
        "colab": {
          "base_uri": "https://localhost:8080/",
          "height": 72
        },
        "outputId": "22cb6796-6dbe-4438-d8c9-6382e21a4474"
      },
      "source": [
        "a[np.array([0,2,4])]  #특정 index 뽑아내기 1 (그냥  array가 아니라 np.array 쓰는게 포인트!)"
      ],
      "execution_count": 45,
      "outputs": [
        {
          "output_type": "execute_result",
          "data": {
            "text/plain": [
              "array([[ 4,  4, 25],\n",
              "       [96, 62, 94],\n",
              "       [42, 93, 61]])"
            ]
          },
          "metadata": {
            "tags": []
          },
          "execution_count": 45
        }
      ]
    },
    {
      "cell_type": "code",
      "metadata": {
        "id": "9yEsf5sJIZN9",
        "colab_type": "code",
        "colab": {
          "base_uri": "https://localhost:8080/",
          "height": 72
        },
        "outputId": "65e19975-493a-477a-bdcb-f74091f5498c"
      },
      "source": [
        "a[[0,2,4],:]  #특정 index 뽑아내기 2"
      ],
      "execution_count": 46,
      "outputs": [
        {
          "output_type": "execute_result",
          "data": {
            "text/plain": [
              "array([[ 4,  4, 25],\n",
              "       [96, 62, 94],\n",
              "       [42, 93, 61]])"
            ]
          },
          "metadata": {
            "tags": []
          },
          "execution_count": 46
        }
      ]
    },
    {
      "cell_type": "markdown",
      "metadata": {
        "id": "TT1C9cyvu0XF",
        "colab_type": "text"
      },
      "source": [
        "# max(=amax) vs maximum"
      ]
    },
    {
      "cell_type": "code",
      "metadata": {
        "id": "bFtfS4Q9u2M1",
        "colab_type": "code",
        "colab": {
          "base_uri": "https://localhost:8080/",
          "height": 199
        },
        "outputId": "b1c66d9f-a5e5-4a6d-e913-9da52eee16c3"
      },
      "source": [
        "A = np.random.randint(0,100,(5,3))\n",
        "B = np.random.randint(0,100,(5,3))\n",
        "print(A)\n",
        "print(B)"
      ],
      "execution_count": 68,
      "outputs": [
        {
          "output_type": "stream",
          "text": [
            "[[93  5 19]\n",
            " [89 27 40]\n",
            " [73 72 90]\n",
            " [82 80 73]\n",
            " [57 74 90]]\n",
            "[[ 7 41  5]\n",
            " [19 84 52]\n",
            " [75 33 35]\n",
            " [37 98 37]\n",
            " [86 45 28]]\n"
          ],
          "name": "stdout"
        }
      ]
    },
    {
      "cell_type": "code",
      "metadata": {
        "id": "6TkhtJW_u89d",
        "colab_type": "code",
        "colab": {
          "base_uri": "https://localhost:8080/",
          "height": 35
        },
        "outputId": "9113a3ab-be41-46ed-e607-376a76704309"
      },
      "source": [
        "A.max() #max: 하나의 배열에서 max 찾아냄"
      ],
      "execution_count": 70,
      "outputs": [
        {
          "output_type": "execute_result",
          "data": {
            "text/plain": [
              "93"
            ]
          },
          "metadata": {
            "tags": []
          },
          "execution_count": 70
        }
      ]
    },
    {
      "cell_type": "code",
      "metadata": {
        "id": "6hd22bFiu_Xu",
        "colab_type": "code",
        "colab": {
          "base_uri": "https://localhost:8080/",
          "height": 35
        },
        "outputId": "9b9ca540-4cb3-4f23-97d1-d937701d9039"
      },
      "source": [
        "np.amax(B)  #amax = max"
      ],
      "execution_count": 73,
      "outputs": [
        {
          "output_type": "execute_result",
          "data": {
            "text/plain": [
              "98"
            ]
          },
          "metadata": {
            "tags": []
          },
          "execution_count": 73
        }
      ]
    },
    {
      "cell_type": "code",
      "metadata": {
        "id": "d6eotIHOvN7t",
        "colab_type": "code",
        "colab": {
          "base_uri": "https://localhost:8080/",
          "height": 108
        },
        "outputId": "99e4b5d1-fa6a-42d1-946f-f9658709b63c"
      },
      "source": [
        "np.maximum(A,B) #maximum: 두개의 배열을 비교해서 더 큰 값 찾아냄"
      ],
      "execution_count": 74,
      "outputs": [
        {
          "output_type": "execute_result",
          "data": {
            "text/plain": [
              "array([[93, 41, 19],\n",
              "       [89, 84, 52],\n",
              "       [75, 72, 90],\n",
              "       [82, 98, 73],\n",
              "       [86, 74, 90]])"
            ]
          },
          "metadata": {
            "tags": []
          },
          "execution_count": 74
        }
      ]
    },
    {
      "cell_type": "markdown",
      "metadata": {
        "id": "9JwA-5NHD7u6",
        "colab_type": "text"
      },
      "source": [
        "# type vs dtype (& astype)"
      ]
    },
    {
      "cell_type": "code",
      "metadata": {
        "id": "S3kEaRNn3fPh",
        "colab_type": "code",
        "colab": {
          "base_uri": "https://localhost:8080/",
          "height": 54
        },
        "outputId": "809969ac-6f0a-465e-c528-9289e642a51b"
      },
      "source": [
        "A = np.random.randint(1,4,(2,2))\n",
        "print(A)"
      ],
      "execution_count": 22,
      "outputs": [
        {
          "output_type": "stream",
          "text": [
            "[[1 2]\n",
            " [2 3]]\n"
          ],
          "name": "stdout"
        }
      ]
    },
    {
      "cell_type": "code",
      "metadata": {
        "id": "HCQ4xBSxEKRi",
        "colab_type": "code",
        "colab": {
          "base_uri": "https://localhost:8080/",
          "height": 35
        },
        "outputId": "fdb0c57a-572a-4689-c4bf-8346559f6abe"
      },
      "source": [
        "type(A) #변수의 type"
      ],
      "execution_count": 23,
      "outputs": [
        {
          "output_type": "execute_result",
          "data": {
            "text/plain": [
              "numpy.ndarray"
            ]
          },
          "metadata": {
            "tags": []
          },
          "execution_count": 23
        }
      ]
    },
    {
      "cell_type": "code",
      "metadata": {
        "id": "WtZQzJnLEXox",
        "colab_type": "code",
        "colab": {
          "base_uri": "https://localhost:8080/",
          "height": 35
        },
        "outputId": "ba8f9465-3f41-4a95-f3c2-32e81cb2ac1c"
      },
      "source": [
        "A.dtype #변수가 사용하는 데이터의 dtype"
      ],
      "execution_count": 24,
      "outputs": [
        {
          "output_type": "execute_result",
          "data": {
            "text/plain": [
              "dtype('int64')"
            ]
          },
          "metadata": {
            "tags": []
          },
          "execution_count": 24
        }
      ]
    },
    {
      "cell_type": "code",
      "metadata": {
        "id": "KbxszWdDprvY",
        "colab_type": "code",
        "colab": {
          "base_uri": "https://localhost:8080/",
          "height": 54
        },
        "outputId": "9b0a53c2-fd1c-40c3-ac07-61dff0afc3cc"
      },
      "source": [
        "A.astype(float) #데이터형 변환 'AsType'"
      ],
      "execution_count": 57,
      "outputs": [
        {
          "output_type": "execute_result",
          "data": {
            "text/plain": [
              "array([[1., 1.],\n",
              "       [2., 2.]])"
            ]
          },
          "metadata": {
            "tags": []
          },
          "execution_count": 57
        }
      ]
    },
    {
      "cell_type": "markdown",
      "metadata": {
        "id": "cNMS4PsRFUuM",
        "colab_type": "text"
      },
      "source": [
        "# shape vs size (& flatten, reshape)"
      ]
    },
    {
      "cell_type": "code",
      "metadata": {
        "id": "TWdPGrseFW4g",
        "colab_type": "code",
        "colab": {
          "base_uri": "https://localhost:8080/",
          "height": 54
        },
        "outputId": "acbbb0cc-b1db-408b-a382-1d274f48dadd"
      },
      "source": [
        "A = np.random.randint(1,4,(2,2))\n",
        "print(A)"
      ],
      "execution_count": 30,
      "outputs": [
        {
          "output_type": "stream",
          "text": [
            "[[1 1]\n",
            " [2 2]]\n"
          ],
          "name": "stdout"
        }
      ]
    },
    {
      "cell_type": "code",
      "metadata": {
        "id": "1uD8f2KoEFrN",
        "colab_type": "code",
        "colab": {
          "base_uri": "https://localhost:8080/",
          "height": 35
        },
        "outputId": "73636e5b-fc7f-4cdf-aaf1-39baa4a4eed4"
      },
      "source": [
        "A.shape #차원"
      ],
      "execution_count": 31,
      "outputs": [
        {
          "output_type": "execute_result",
          "data": {
            "text/plain": [
              "(2, 2)"
            ]
          },
          "metadata": {
            "tags": []
          },
          "execution_count": 31
        }
      ]
    },
    {
      "cell_type": "code",
      "metadata": {
        "id": "RevRHs9sEI-2",
        "colab_type": "code",
        "colab": {
          "base_uri": "https://localhost:8080/",
          "height": 173
        },
        "outputId": "7496058a-ac78-4991-8caa-5b731c535081"
      },
      "source": [
        "A.shape() #() 붙일 필요 없다! 문법 오류!"
      ],
      "execution_count": 32,
      "outputs": [
        {
          "output_type": "error",
          "ename": "TypeError",
          "evalue": "ignored",
          "traceback": [
            "\u001b[0;31m---------------------------------------------------------------------------\u001b[0m",
            "\u001b[0;31mTypeError\u001b[0m                                 Traceback (most recent call last)",
            "\u001b[0;32m<ipython-input-32-e9d739cf0963>\u001b[0m in \u001b[0;36m<module>\u001b[0;34m()\u001b[0m\n\u001b[0;32m----> 1\u001b[0;31m \u001b[0mA\u001b[0m\u001b[0;34m.\u001b[0m\u001b[0mshape\u001b[0m\u001b[0;34m(\u001b[0m\u001b[0;34m)\u001b[0m \u001b[0;31m#() 붙일 필요 없다! 문법 오류!\u001b[0m\u001b[0;34m\u001b[0m\u001b[0;34m\u001b[0m\u001b[0m\n\u001b[0m",
            "\u001b[0;31mTypeError\u001b[0m: 'tuple' object is not callable"
          ]
        }
      ]
    },
    {
      "cell_type": "code",
      "metadata": {
        "id": "VrR2Vl91EOkk",
        "colab_type": "code",
        "colab": {}
      },
      "source": [
        "A.size  #데이터의 개수"
      ],
      "execution_count": 0,
      "outputs": []
    },
    {
      "cell_type": "code",
      "metadata": {
        "id": "i10HYGM0ESW8",
        "colab_type": "code",
        "colab": {
          "base_uri": "https://localhost:8080/",
          "height": 35
        },
        "outputId": "110fc921-3e68-4330-ff3b-94191d910967"
      },
      "source": [
        "A.flatten() #Vectorize"
      ],
      "execution_count": 33,
      "outputs": [
        {
          "output_type": "execute_result",
          "data": {
            "text/plain": [
              "array([1, 1, 2, 2])"
            ]
          },
          "metadata": {
            "tags": []
          },
          "execution_count": 33
        }
      ]
    },
    {
      "cell_type": "code",
      "metadata": {
        "id": "28HwdLCLFd9x",
        "colab_type": "code",
        "colab": {
          "base_uri": "https://localhost:8080/",
          "height": 90
        },
        "outputId": "e32a3ff6-1cfd-45df-daf3-0e9e9a5fe9a7"
      },
      "source": [
        "A.reshape(4,1)"
      ],
      "execution_count": 34,
      "outputs": [
        {
          "output_type": "execute_result",
          "data": {
            "text/plain": [
              "array([[1],\n",
              "       [1],\n",
              "       [2],\n",
              "       [2]])"
            ]
          },
          "metadata": {
            "tags": []
          },
          "execution_count": 34
        }
      ]
    },
    {
      "cell_type": "code",
      "metadata": {
        "id": "zEKmxc0tGtYZ",
        "colab_type": "code",
        "colab": {}
      },
      "source": [
        "np.maximum()"
      ],
      "execution_count": 0,
      "outputs": []
    }
  ]
}