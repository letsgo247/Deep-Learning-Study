{
  "nbformat": 4,
  "nbformat_minor": 0,
  "metadata": {
    "colab": {
      "name": "Python_Archive.ipynb",
      "provenance": [],
      "collapsed_sections": [],
      "authorship_tag": "ABX9TyN0yIn1oYfE4OED2nYS2IfK",
      "include_colab_link": true
    },
    "kernelspec": {
      "name": "python3",
      "display_name": "Python 3"
    }
  },
  "cells": [
    {
      "cell_type": "markdown",
      "metadata": {
        "id": "view-in-github",
        "colab_type": "text"
      },
      "source": [
        "<a href=\"https://colab.research.google.com/github/letsgo247/Deep-Learning-Study/blob/master/Python_Archive.ipynb\" target=\"_parent\"><img src=\"https://colab.research.google.com/assets/colab-badge.svg\" alt=\"Open In Colab\"/></a>"
      ]
    },
    {
      "cell_type": "markdown",
      "metadata": {
        "id": "xvOycvdDi3X4",
        "colab_type": "text"
      },
      "source": [
        "# *(=Asterisk) 사용법\n"
      ]
    },
    {
      "cell_type": "markdown",
      "metadata": {
        "id": "Uu2E1LE-BkfI",
        "colab_type": "text"
      },
      "source": [
        "1. 가변인자 (Variadic Parameters)를 사용하고자 할 때"
      ]
    },
    {
      "cell_type": "code",
      "metadata": {
        "id": "_XzCM8zRbX4z",
        "colab_type": "code",
        "colab": {
          "base_uri": "https://localhost:8080/",
          "height": 35
        },
        "outputId": "f7ab2f96-c735-4455-87c4-debb7d86eee7"
      },
      "source": [
        "# positional arguments만 받을 때\n",
        "\n",
        "def save_ranking(*args):\n",
        "    print(args)\n",
        "save_ranking('ming', 'alice', 'tom', 'wilson', 'roy')"
      ],
      "execution_count": null,
      "outputs": [
        {
          "output_type": "stream",
          "text": [
            "('ming', 'alice', 'tom', 'wilson', 'roy')\n"
          ],
          "name": "stdout"
        }
      ]
    },
    {
      "cell_type": "code",
      "metadata": {
        "id": "kZlBXNVWBugB",
        "colab_type": "code",
        "colab": {
          "base_uri": "https://localhost:8080/",
          "height": 35
        },
        "outputId": "3a086224-e735-4d54-a8c9-0b81e1ab48b1"
      },
      "source": [
        "# keyword arguments만 받을 때\n",
        "def save_ranking(**kwargs):\n",
        "    print(kwargs)\n",
        "save_ranking(first='ming', second='alice', fourth='wilson', third='tom', fifth='roy')"
      ],
      "execution_count": null,
      "outputs": [
        {
          "output_type": "stream",
          "text": [
            "{'first': 'ming', 'second': 'alice', 'fourth': 'wilson', 'third': 'tom', 'fifth': 'roy'}\n"
          ],
          "name": "stdout"
        }
      ]
    },
    {
      "cell_type": "code",
      "metadata": {
        "id": "yTsOIo5IBvfU",
        "colab_type": "code",
        "colab": {
          "base_uri": "https://localhost:8080/",
          "height": 54
        },
        "outputId": "2a0f94ca-4294-4d4d-92b3-0f9cba7f8b53"
      },
      "source": [
        "# positional arguments와 keyword arguments를 모두 받을 때\n",
        "\n",
        "def save_ranking(*args, **kwargs):\n",
        "    print(args)\n",
        "    print(kwargs)\n",
        "save_ranking('ming', 'alice', 'tom', fourth='wilson', fifth='roy')"
      ],
      "execution_count": null,
      "outputs": [
        {
          "output_type": "stream",
          "text": [
            "('ming', 'alice', 'tom')\n",
            "{'fourth': 'wilson', 'fifth': 'roy'}\n"
          ],
          "name": "stdout"
        }
      ]
    },
    {
      "cell_type": "markdown",
      "metadata": {
        "id": "9kaWJophB6DR",
        "colab_type": "text"
      },
      "source": [
        "2. 컨테이너 타입의 데이터를 Unpacking 할 때"
      ]
    },
    {
      "cell_type": "code",
      "metadata": {
        "id": "JaDxyRMPCE2x",
        "colab_type": "code",
        "colab": {
          "base_uri": "https://localhost:8080/",
          "height": 445
        },
        "outputId": "dc1233fc-14a3-4dd1-f411-7b961d22d406"
      },
      "source": [
        "import numpy as np\n",
        "\n",
        "x = np.random.randn(3,5)\n",
        "print('x = ',x)\n",
        "\n",
        "y = np.random.rand(*x.shape)    #된다\n",
        "print('y = ',y)\n",
        "\n",
        "z = np.random.rand(x.shape)   #안된다 ㄷㄷ\n",
        "print(z)"
      ],
      "execution_count": null,
      "outputs": [
        {
          "output_type": "stream",
          "text": [
            "x =  [[ 0.09853065 -0.27099711  1.05836033 -0.55462487 -2.16804431]\n",
            " [-0.72320301  0.58314736 -0.08569674 -1.03939068  0.37691913]\n",
            " [-0.73940802 -0.05942183 -0.45182276  0.16928696  0.85557402]]\n",
            "y =  [[0.80954516 0.41296193 0.72398347 0.864546   0.46374481]\n",
            " [0.23231487 0.79604905 0.8166334  0.54107966 0.85662205]\n",
            " [0.20120774 0.40967766 0.81006001 0.79722221 0.05733555]]\n"
          ],
          "name": "stdout"
        },
        {
          "output_type": "error",
          "ename": "TypeError",
          "evalue": "ignored",
          "traceback": [
            "\u001b[0;31m---------------------------------------------------------------------------\u001b[0m",
            "\u001b[0;31mTypeError\u001b[0m                                 Traceback (most recent call last)",
            "\u001b[0;32m<ipython-input-2-3bb0f544ed9b>\u001b[0m in \u001b[0;36m<module>\u001b[0;34m()\u001b[0m\n\u001b[1;32m      7\u001b[0m \u001b[0mprint\u001b[0m\u001b[0;34m(\u001b[0m\u001b[0;34m'y = '\u001b[0m\u001b[0;34m,\u001b[0m\u001b[0my\u001b[0m\u001b[0;34m)\u001b[0m\u001b[0;34m\u001b[0m\u001b[0;34m\u001b[0m\u001b[0m\n\u001b[1;32m      8\u001b[0m \u001b[0;34m\u001b[0m\u001b[0m\n\u001b[0;32m----> 9\u001b[0;31m \u001b[0mz\u001b[0m \u001b[0;34m=\u001b[0m \u001b[0mnp\u001b[0m\u001b[0;34m.\u001b[0m\u001b[0mrandom\u001b[0m\u001b[0;34m.\u001b[0m\u001b[0mrand\u001b[0m\u001b[0;34m(\u001b[0m\u001b[0mx\u001b[0m\u001b[0;34m.\u001b[0m\u001b[0mshape\u001b[0m\u001b[0;34m)\u001b[0m   \u001b[0;31m#안된다 ㄷㄷ\u001b[0m\u001b[0;34m\u001b[0m\u001b[0;34m\u001b[0m\u001b[0m\n\u001b[0m\u001b[1;32m     10\u001b[0m \u001b[0mprint\u001b[0m\u001b[0;34m(\u001b[0m\u001b[0mz\u001b[0m\u001b[0;34m)\u001b[0m\u001b[0;34m\u001b[0m\u001b[0;34m\u001b[0m\u001b[0m\n",
            "\u001b[0;32mmtrand.pyx\u001b[0m in \u001b[0;36mnumpy.random.mtrand.RandomState.rand\u001b[0;34m()\u001b[0m\n",
            "\u001b[0;32mmtrand.pyx\u001b[0m in \u001b[0;36mnumpy.random.mtrand.RandomState.random_sample\u001b[0;34m()\u001b[0m\n",
            "\u001b[0;32m_common.pyx\u001b[0m in \u001b[0;36mnumpy.random._common.double_fill\u001b[0;34m()\u001b[0m\n",
            "\u001b[0;31mTypeError\u001b[0m: 'tuple' object cannot be interpreted as an integer"
          ]
        }
      ]
    },
    {
      "cell_type": "markdown",
      "metadata": {
        "id": "SZTXTQq55hVQ",
        "colab_type": "text"
      },
      "source": [
        "#dict 관련"
      ]
    },
    {
      "cell_type": "markdown",
      "metadata": {
        "id": "uXeHEPnC5no4",
        "colab_type": "text"
      },
      "source": [
        "dict.setdefault('key', value): dict에 해당 key가 없을 때 key 만들면서 기본값 넣어주는 함수"
      ]
    },
    {
      "cell_type": "code",
      "metadata": {
        "id": "H3DA3_WY5i37",
        "colab_type": "code",
        "colab": {
          "base_uri": "https://localhost:8080/",
          "height": 35
        },
        "outputId": "54747811-64dc-4be6-a902-a04e778d0ad9"
      },
      "source": [
        "s= ['a', 'b', 'c', 'b', 'a', 'b', 'c']\n",
        "d= {}\n",
        "\n",
        "for k in s:\n",
        "  d.setdefault(k,0) #d 에 k 가 있는지 찾아서, 없으면 k:0 쌍을 만듦!\n",
        "  d[k]+=1\n",
        "\n",
        "list(d.items())"
      ],
      "execution_count": null,
      "outputs": [
        {
          "output_type": "execute_result",
          "data": {
            "text/plain": [
              "[('a', 2), ('b', 3), ('c', 2)]"
            ]
          },
          "metadata": {
            "tags": []
          },
          "execution_count": 2
        }
      ]
    },
    {
      "cell_type": "markdown",
      "metadata": {
        "id": "N1cPrRgWrfAY",
        "colab_type": "text"
      },
      "source": [
        "dict.get('key', value): 'key'를 호출하는데, 만약 'key'가 없을 경우 value 를 호출"
      ]
    },
    {
      "cell_type": "code",
      "metadata": {
        "id": "0VTqeQXVreXM",
        "colab_type": "code",
        "colab": {
          "base_uri": "https://localhost:8080/",
          "height": 35
        },
        "outputId": "00988ef6-a5ed-44ba-b22a-51ac6d2d1ed2"
      },
      "source": [
        "eps = d.get(\"eps\", 1e-5)\n",
        "print(eps)"
      ],
      "execution_count": null,
      "outputs": [
        {
          "output_type": "stream",
          "text": [
            "1e-05\n"
          ],
          "name": "stdout"
        }
      ]
    },
    {
      "cell_type": "markdown",
      "metadata": {
        "id": "PumIHqQ25jzt",
        "colab_type": "text"
      },
      "source": [
        "#Test Board"
      ]
    },
    {
      "cell_type": "code",
      "metadata": {
        "id": "a4Sx7vX55mdn",
        "colab_type": "code",
        "colab": {}
      },
      "source": [
        ""
      ],
      "execution_count": null,
      "outputs": []
    }
  ]
}