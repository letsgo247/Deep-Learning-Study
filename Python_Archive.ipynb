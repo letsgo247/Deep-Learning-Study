{
  "nbformat": 4,
  "nbformat_minor": 0,
  "metadata": {
    "colab": {
      "name": "Python_Archive.ipynb",
      "provenance": [],
      "collapsed_sections": [],
      "authorship_tag": "ABX9TyPdiyXBHZkuFM/or0GFok+e",
      "include_colab_link": true
    },
    "kernelspec": {
      "name": "python3",
      "display_name": "Python 3"
    }
  },
  "cells": [
    {
      "cell_type": "markdown",
      "metadata": {
        "id": "view-in-github",
        "colab_type": "text"
      },
      "source": [
        "<a href=\"https://colab.research.google.com/github/letsgo247/Deep-Learning-Study/blob/master/Python_Archive.ipynb\" target=\"_parent\"><img src=\"https://colab.research.google.com/assets/colab-badge.svg\" alt=\"Open In Colab\"/></a>"
      ]
    },
    {
      "cell_type": "markdown",
      "metadata": {
        "id": "xvOycvdDi3X4",
        "colab_type": "text"
      },
      "source": [
        "# *(=Asterisk) 사용법\n"
      ]
    },
    {
      "cell_type": "markdown",
      "metadata": {
        "id": "Uu2E1LE-BkfI",
        "colab_type": "text"
      },
      "source": [
        "1. 가변인자 (Variadic Parameters)를 사용하고자 할 때"
      ]
    },
    {
      "cell_type": "code",
      "metadata": {
        "id": "_XzCM8zRbX4z",
        "colab_type": "code",
        "outputId": "210d4fe4-0bb2-4060-dff5-8dc190e7bdb3",
        "colab": {
          "base_uri": "https://localhost:8080/",
          "height": 35
        }
      },
      "source": [
        "# positional arguments만 받을 때\n",
        "\n",
        "def save_ranking(*args):\n",
        "    print(args)\n",
        "save_ranking('ming', 'alice', 'tom', 'wilson', 'roy')"
      ],
      "execution_count": 1,
      "outputs": [
        {
          "output_type": "stream",
          "text": [
            "('ming', 'alice', 'tom', 'wilson', 'roy')\n"
          ],
          "name": "stdout"
        }
      ]
    },
    {
      "cell_type": "code",
      "metadata": {
        "id": "kZlBXNVWBugB",
        "colab_type": "code",
        "colab": {
          "base_uri": "https://localhost:8080/",
          "height": 35
        },
        "outputId": "b17d74f4-f4d6-4e43-bc5e-0fe259ffd07c"
      },
      "source": [
        "# keyword arguments만 받을 때\n",
        "def save_ranking(**kwargs):\n",
        "    print(kwargs)\n",
        "save_ranking(first='ming', second='alice', fourth='wilson', third='tom', fifth='roy')"
      ],
      "execution_count": 2,
      "outputs": [
        {
          "output_type": "stream",
          "text": [
            "{'first': 'ming', 'second': 'alice', 'fourth': 'wilson', 'third': 'tom', 'fifth': 'roy'}\n"
          ],
          "name": "stdout"
        }
      ]
    },
    {
      "cell_type": "code",
      "metadata": {
        "id": "yTsOIo5IBvfU",
        "colab_type": "code",
        "colab": {
          "base_uri": "https://localhost:8080/",
          "height": 54
        },
        "outputId": "68b2a39d-4e70-4938-b829-bf028bbde92a"
      },
      "source": [
        "# positional arguments와 keyword arguments를 모두 받을 때\n",
        "\n",
        "def save_ranking(*args, **kwargs):\n",
        "    print(args)\n",
        "    print(kwargs)\n",
        "save_ranking('ming', 'alice', 'tom', fourth='wilson', fifth='roy')"
      ],
      "execution_count": 3,
      "outputs": [
        {
          "output_type": "stream",
          "text": [
            "('ming', 'alice', 'tom')\n",
            "{'fourth': 'wilson', 'fifth': 'roy'}\n"
          ],
          "name": "stdout"
        }
      ]
    },
    {
      "cell_type": "markdown",
      "metadata": {
        "id": "9kaWJophB6DR",
        "colab_type": "text"
      },
      "source": [
        "2. 컨테이너 타입의 데이터를 Unpacking 할 때"
      ]
    },
    {
      "cell_type": "code",
      "metadata": {
        "id": "JaDxyRMPCE2x",
        "colab_type": "code",
        "colab": {
          "base_uri": "https://localhost:8080/",
          "height": 181
        },
        "outputId": "6e646b85-f2d7-4f1f-bea4-d28d5be44dd4"
      },
      "source": [
        "import numpy as np\n",
        "\n",
        "x = np.random.randn(3,5)\n",
        "print(x)\n",
        "\n",
        "y = np.random.rand(*x.shape)    #된다\n",
        "print(y)\n",
        "\n",
        "z = np.random.rand(x.shape)   #안된다 ㄷㄷ\n",
        "print(z)"
      ],
      "execution_count": 9,
      "outputs": [
        {
          "output_type": "stream",
          "text": [
            "[[-1.28917103 -0.37797807 -1.7409648  -1.15542163 -1.36217025]\n",
            " [ 0.60673275  0.19950394 -0.93684013  0.80860127 -0.77280919]\n",
            " [ 0.41514368 -0.48968947 -0.54992151 -0.73383539 -1.40389326]]\n",
            "[[0.52822951 0.10742969 0.3771943  0.74454422 0.62772464]\n",
            " [0.9890924  0.00383514 0.19899767 0.99734404 0.85280451]\n",
            " [0.99781309 0.7270876  0.89925422 0.6597931  0.49146648]]\n",
            "[[0.32059242 0.48752985 0.61719596 0.14672891 0.46710691]\n",
            " [0.40003845 0.53224519 0.41174279 0.25880204 0.91574115]\n",
            " [0.72980436 0.26323487 0.7468455  0.52455647 0.90427848]]\n"
          ],
          "name": "stdout"
        }
      ]
    }
  ]
}